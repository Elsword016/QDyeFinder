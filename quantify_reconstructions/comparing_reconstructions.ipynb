{
 "cells": [
  {
   "cell_type": "code",
   "execution_count": 20,
   "metadata": {},
   "outputs": [],
   "source": [
    "import numpy as np\n",
    "import matplotlib\n",
    "import matplotlib.pyplot as plt\n",
    "import seaborn as sns\n",
    "import pandas as pd\n",
    "import glob\n",
    "#import ngauge\n",
    "#from ngauge import Neuron\n",
    "from skimage.io import*\n",
    "from skimage.morphology import binary_dilation, ball,cube\n",
    "import mat73\n",
    "import tifffile as tiff \n",
    "from skimage.color import label2rgb\n",
    "from tqdm.notebook import tqdm\n",
    "import warnings; warnings.simplefilter('ignore')\n",
    "#import neurom \n",
    "sns.set_context('paper')\n",
    "sns.set_style('ticks')\n",
    "#plt.style.use(\"dark_background\")\n",
    "#matplotlib.use('TkAgg')"
   ]
  },
  {
   "cell_type": "code",
   "execution_count": 19,
   "metadata": {},
   "outputs": [],
   "source": [
    "#SWC: with dilation\n",
    "# For processing the SWC generated from Imaris\n",
    "def read_swc(file_path):\n",
    "    \"\"\"Read coordinates and radii from an SWC file.\"\"\"\n",
    "    swc_data = pd.read_csv(file_path, delim_whitespace=True, comment='#', \n",
    "                           names=['n', 'type', 'x', 'y', 'z', 'r', 'parent'])\n",
    "    print(f'Swc file {file_path} has {swc_data.shape[0]} rows and {swc_data.shape[1]} columns')\n",
    "    return swc_data[['x', 'y', 'z']].values, swc_data['r'].values# pr\n",
    "\n",
    "def add_to_binary_image(binary_image, coordinates, radii):\n",
    "    \"\"\"Mark points in the binary image based on coordinates and dilate them with specific radii.\"\"\"\n",
    "    for (x, y, z), radius in zip(coordinates, radii):\n",
    "        x = x*0.0578000 #pixel size\n",
    "        y = y*0.0578000\n",
    "        z = z*0.1300000\n",
    "        if 0 <= x < binary_image.shape[2] and 0 <= y < binary_image.shape[1] and 0 <= z < binary_image.shape[0]:\n",
    "            # Adjust the dilation size based on the radius, ensuring it is at least 1\n",
    "            dilation_size = max(1, int(radius/2))\n",
    "            dilation_size = dilation_size + 10\n",
    "            selem = cube(dilation_size)\n",
    "            # Calculate the region to apply dilation\n",
    "            z_min, z_max = max(0, int(z) - dilation_size), min(binary_image.shape[0], int(z) + dilation_size + 1)\n",
    "            y_min, y_max = max(0, int(y) - dilation_size), min(binary_image.shape[1], int(y) + dilation_size + 1)\n",
    "            x_min, x_max = max(0, int(x) - dilation_size), min(binary_image.shape[2], int(x) + dilation_size + 1)\n",
    "            # Apply dilation only within the specified region to save computation\n",
    "            binary_image[z_min:z_max, y_min:y_max, x_min:x_max] |= binary_dilation(binary_image[z_min:z_max, y_min:y_max, x_min:x_max] == 0, selem)\n",
    "            #apply dilation to the whole image\n",
    "            #binary_image |= binary_dilation(binary_image == 0, selem)\n",
    "    return binary_image\n",
    "\n",
    "def create_3d_binary_image(swc_files, image_size):\n",
    "    \"\"\"Create a 3D binary image from multiple SWC files, dilating based on point-specific radii.\"\"\"\n",
    "    binary_image = np.zeros(image_size, dtype=np.uint8)\n",
    "    for file_path in swc_files:\n",
    "        coordinates, radii = read_swc(file_path)\n",
    "        add_to_binary_image(binary_image, coordinates, radii)\n",
    "    return binary_image"
   ]
  },
  {
   "cell_type": "code",
   "execution_count": 3,
   "metadata": {},
   "outputs": [],
   "source": [
    "## MAT: with dilation\n",
    "# For processing MAT files\n",
    "def process_mat(mat_file):\n",
    "    mat_data = mat73.loadmat(mat_file)\n",
    "    efpxTrace = mat_data['efPxTrace']\n",
    "    points = efpxTrace['Points']\n",
    "    diamters = efpxTrace['Diameter']\n",
    "    return points, diamters\n",
    "\n",
    "def mat_df(mat_file):\n",
    "    points, diamters = process_mat(mat_file)\n",
    "    points = np.concatenate(points)\n",
    "    radius = []\n",
    "    for i in range(len(diamters)):\n",
    "        radius.append(diamters[i]/2)\n",
    "    radius = np.concatenate(radius)\n",
    "    df = pd.DataFrame(points, columns=['x', 'y', 'z'])\n",
    "    df['r'] = radius\n",
    "    return df\n",
    "\n",
    "def create_mat_binary_image(mat_file, image_size):\n",
    "    \"\"\"Create a 3D binary image from a mat file, dilating based on point-specific radii.\"\"\"\n",
    "    binary_image = np.zeros(image_size, dtype=np.uint8)\n",
    "    df = mat_df(mat_file)\n",
    "    coordinates = df[['x', 'y', 'z']].values\n",
    "    radii = df['r'].values\n",
    "    add_to_binary_image(binary_image, coordinates, radii)\n",
    "    return binary_image"
   ]
  },
  {
   "cell_type": "code",
   "execution_count": 32,
   "metadata": {},
   "outputs": [],
   "source": [
    "def get_neuron(mat_file,cellid:str):\n",
    "    mat_file = mat73.loadmat(mat_file)\n",
    "    efpxTrace = mat_file['efPxTrace']\n",
    "    efpxTrace = pd.DataFrame.from_dict(efpxTrace)\n",
    "    neuron = efpxTrace[efpxTrace['SetId'] == cellid]\n",
    "    points = neuron['Points']\n",
    "    points = np.array(points)\n",
    "    points = np.concatenate(points)\n",
    "    radius = neuron['Diameter']\n",
    "    radius = np.array(radius)/2\n",
    "    radius = np.concatenate(radius)\n",
    "    return points, radius"
   ]
  },
  {
   "cell_type": "code",
   "execution_count": 9,
   "metadata": {},
   "outputs": [],
   "source": [
    "def iou(pred, gt):\n",
    "    intersection = np.logical_and(pred, gt)\n",
    "    union = np.logical_or(pred, gt)\n",
    "    iou_score = np.sum(intersection) / np.sum(union)\n",
    "    return intersection, union, iou_score"
   ]
  },
  {
   "cell_type": "code",
   "execution_count": 61,
   "metadata": {},
   "outputs": [],
   "source": [
    "def crop_img(bin_img,bbox=None):\n",
    "    if bbox is None:\n",
    "        #crete a bounding box\n",
    "        z,y,x = np.where(bin_img>0)\n",
    "        x_min,x_max = x.min(),x.max()\n",
    "        y_min,y_max = y.min(),y.max()\n",
    "        z_min,z_max = z.min(),z.max()\n",
    "        #add perturbation to the bounding box\n",
    "        z_sz,y_sz,x_sz = bin_img.shape\n",
    "        x_min = max(0,x_min-np.random.randint(0,20))\n",
    "        x_max = min(x_sz,x_max+np.random.randint(0,20))\n",
    "        y_min = max(0,y_min-np.random.randint(0,20))\n",
    "        y_max = min(y_sz,y_max+np.random.randint(0,20))\n",
    "        z_min = max(0,z_min-np.random.randint(0,20))\n",
    "        z_max = min(z_sz,z_max+np.random.randint(0,20))\n",
    "        bbox = (z_min,z_max,y_min,y_max,x_min,x_max)\n",
    "        bbox = np.array(bbox)\n",
    "        z_min,z_max,y_min,y_max,x_min,x_max = bbox\n",
    "    else:\n",
    "        z_min,z_max,y_min,y_max,x_min,x_max = bbox\n",
    "    return bin_img[z_min:z_max,y_min:y_max,x_min:x_max],bbox"
   ]
  },
  {
   "cell_type": "code",
   "execution_count": 5,
   "metadata": {},
   "outputs": [],
   "source": [
    "img_size = (97, 2844, 2835) # real image size "
   ]
  },
  {
   "cell_type": "code",
   "execution_count": null,
   "metadata": {},
   "outputs": [],
   "source": [
    "neuron_ids = pd.read_excel('ImarisAutotrace_NeuronID.xlsx') #get the neuron ids\n",
    "neuron_ids.head()"
   ]
  },
  {
   "cell_type": "code",
   "execution_count": 11,
   "metadata": {},
   "outputs": [
    {
     "name": "stdout",
     "output_type": "stream",
     "text": [
      "['Cell 32', 'Cell 14', 'Cell 20', 'Cell 22', 'Cell 19', 'Cell 18', 'Cell 10', 'Cell 29', 'Cell 30', 'Cell 26', 'Cell 24', 'Cell 15', 'Cell 1', 'Cell 23', 'Cell 34', 'Cell 16', 'Cell 28', 'Cell 33', 'Cell 4', 'Cell 36']\n"
     ]
    }
   ],
   "source": [
    "auto_trace_ids = neuron_ids['Imaris autotrace'].values\n",
    "neurons = neuron_ids['Neuron#'].values\n",
    "\n",
    "#add 'Cell ' to the neuron ids\n",
    "neurons = ['Cell ' + str(i) for i in neurons]\n",
    "print(neurons)\n"
   ]
  },
  {
   "cell_type": "code",
   "execution_count": 13,
   "metadata": {},
   "outputs": [
    {
     "name": "stdout",
     "output_type": "stream",
     "text": [
      "['auto_trace.swc_filament_0.swc' 'auto_trace.swc_filament_1.swc'\n",
      " 'auto_trace.swc_filament_2.swc' 'auto_trace.swc_filament_3.swc'\n",
      " 'auto_trace.swc_filament_4.swc' 'auto_trace.swc_filament_5.swc'\n",
      " 'auto_trace.swc_filament_6.swc' 'auto_trace.swc_filament_7.swc'\n",
      " 'auto_trace.swc_filament_8.swc' 'auto_trace.swc_filament_9.swc'\n",
      " 'auto_trace.swc_filament_10.swc' 'auto_trace.swc_filament_11.swc'\n",
      " 'auto_trace.swc_filament_12.swc' 'auto_trace.swc_filament_13.swc'\n",
      " 'auto_trace.swc_filament_14.swc' 'auto_trace.swc_filament_15.swc'\n",
      " 'auto_trace.swc_filament_16.swc' 'auto_trace.swc_filament_17.swc'\n",
      " 'auto_trace.swc_filament_18.swc' 'auto_trace.swc_filament_20.swc']\n"
     ]
    }
   ],
   "source": [
    "print(auto_trace_ids)"
   ]
  },
  {
   "cell_type": "code",
   "execution_count": null,
   "metadata": {},
   "outputs": [],
   "source": [
    "single_autotraces = {}\n",
    "for n in tqdm(range(len(auto_trace_ids))):\n",
    "    cell_id = auto_trace_ids[n]\n",
    "    traces = create_3d_binary_image([f'auto-trace/{cell_id}'], img_size)\n",
    "    single_autotraces[neurons[n]] = traces"
   ]
  },
  {
   "cell_type": "code",
   "execution_count": null,
   "metadata": {},
   "outputs": [],
   "source": [
    "single_gt = {}\n",
    "for n in tqdm(range(len(neurons))):\n",
    "    cell_id = neurons[n]\n",
    "    points,radii = get_neuron('ProcessedTraces_Manual.mat', cell_id)\n",
    "    traces = add_to_binary_image(np.zeros(img_size, dtype=np.uint8), points, radii)\n",
    "    single_gt[cell_id] = traces"
   ]
  },
  {
   "cell_type": "code",
   "execution_count": null,
   "metadata": {},
   "outputs": [],
   "source": [
    "single_qdye = {}\n",
    "for n in tqdm(range(len(neurons))):\n",
    "    cell_id = neurons[n]\n",
    "    points,radii = get_neuron('AfterClustering.mat', cell_id)\n",
    "    traces = add_to_binary_image(np.zeros(img_size, dtype=np.uint8), points, radii)\n",
    "    single_qdye[cell_id] = traces"
   ]
  },
  {
   "cell_type": "code",
   "execution_count": null,
   "metadata": {},
   "outputs": [],
   "source": [
    "gt_crops = {}\n",
    "qdye_crops = {}\n",
    "imaris_crops = {}\n",
    "for n in tqdm(range(len(neurons))):\n",
    "    cell_id = neurons[n]\n",
    "    gt = single_gt[cell_id]\n",
    "    qdye = single_qdye[cell_id]\n",
    "    imaris = single_autotraces[cell_id]\n",
    "    gt_crop,bbox = crop_img(gt)\n",
    "    qdye_crop,_ = crop_img(qdye,bbox=bbox)\n",
    "    imaris_crop,_ = crop_img(imaris,bbox=bbox)\n",
    "    gt_crops[cell_id] = gt_crop\n",
    "    qdye_crops[cell_id] = qdye_crop\n",
    "    imaris_crops[cell_id] = imaris_crop"
   ]
  },
  {
   "cell_type": "code",
   "execution_count": 70,
   "metadata": {},
   "outputs": [
    {
     "data": {
      "text/plain": [
       "(97, 749, 994)"
      ]
     },
     "execution_count": 70,
     "metadata": {},
     "output_type": "execute_result"
    }
   ],
   "source": [
    "qdye_crops['Cell 4'].shape"
   ]
  },
  {
   "cell_type": "code",
   "execution_count": 74,
   "metadata": {},
   "outputs": [
    {
     "data": {
      "text/plain": [
       "20"
      ]
     },
     "execution_count": 74,
     "metadata": {},
     "output_type": "execute_result"
    }
   ],
   "source": [
    "#plot all the single gt\n",
    "len(single_gt)"
   ]
  },
  {
   "cell_type": "code",
   "execution_count": 78,
   "metadata": {},
   "outputs": [
    {
     "data": {
      "image/png": "[encoded data removed]",
      "text/plain": [
       "<Figure size 1000x1000 with 20 Axes>"
      ]
     },
     "metadata": {},
     "output_type": "display_data"
    }
   ],
   "source": [
    "fig,ax = plt.subplots(5,4,figsize=(10,10))\n",
    "for i,(k,v) in enumerate(single_gt.items()):\n",
    "    ax[i//4,i%4].imshow(v.max(axis=0))\n",
    "    ax[i//4,i%4].set_title(k)\n",
    "    ax[i//4,i%4].axis('off')\n",
    "plt.tight_layout()\n",
    "plt.show();"
   ]
  },
  {
   "cell_type": "code",
   "execution_count": null,
   "metadata": {},
   "outputs": [],
   "source": [
    "imaris_gt_intersection = {}\n",
    "\n",
    "for n in tqdm(range(len(neurons)), desc='Calculating Intersection...'):\n",
    "    cell_id = neurons[n]\n",
    "    pred = single_autotraces[cell_id]\n",
    "    gt = single_gt[cell_id]\n",
    "    intersection, union, iou_score = iou(pred, gt)\n",
    "    imaris_gt_intersection[cell_id] = intersection "
   ]
  },
  {
   "cell_type": "code",
   "execution_count": 38,
   "metadata": {},
   "outputs": [],
   "source": [
    "perc_overlap_imaris_gt = {}\n",
    "for n in range(len(neurons)):\n",
    "    cell_id = neurons[n]\n",
    "    intersection = imaris_gt_intersection[cell_id]\n",
    "    gt = single_gt[cell_id]\n",
    "    perc_overlap_imaris_gt[cell_id] = np.sum(intersection)/np.sum(gt)"
   ]
  },
  {
   "cell_type": "code",
   "execution_count": null,
   "metadata": {},
   "outputs": [],
   "source": [
    "qdye_gt_intersection = {}   \n",
    "for n in tqdm(range(len(neurons)), desc='Calculating Intersection...'):\n",
    "    cell_id = neurons[n]\n",
    "    pred = single_qdye[cell_id]\n",
    "    gt = single_gt[cell_id]\n",
    "    intersection, union, iou_score = iou(pred, gt)\n",
    "    qdye_gt_intersection[cell_id] = intersection"
   ]
  },
  {
   "cell_type": "code",
   "execution_count": 48,
   "metadata": {},
   "outputs": [],
   "source": [
    "perc_overlap_qdye_gt = {}\n",
    "for n in range(len(neurons)):\n",
    "    cell_id = neurons[n]\n",
    "    intersection = qdye_gt_intersection[cell_id]\n",
    "    gt = single_gt[cell_id]\n",
    "    perc_overlap_qdye_gt[cell_id] = np.sum(intersection)/np.sum(gt)  "
   ]
  },
  {
   "cell_type": "code",
   "execution_count": 58,
   "metadata": {},
   "outputs": [
    {
     "data": {
      "image/png": "[encoded data removed]",
      "text/plain": [
       "<Figure size 1000x600 with 1 Axes>"
      ]
     },
     "metadata": {},
     "output_type": "display_data"
    }
   ],
   "source": [
    "#plot boxplot with the groups - Imaris-Gt and QDye-Gt and the overlap percentage on the y-axis, and the x-axis as the groups, there should be datapoints showing each neuron\n",
    "#plot the boxplot for the two groups\n",
    "fig = plt.figure(figsize=(10, 6))\n",
    "data = [list(perc_overlap_imaris_gt.values()), list(perc_overlap_qdye_gt.values())]\n",
    "sns.boxplot(data=data, showfliers=True)\n",
    "sns.swarmplot(data=data, color='black', size=5)\n",
    "plt.ylim(0, 1.1)\n",
    "plt.ylabel('Overlap Percentage')\n",
    "plt.xticks([0, 1], ['Imaris-GT', 'QDye-GT'])\n",
    "\n",
    "plt.title('Overlap Percentage between Imaris and QDye with GT')\n",
    "plt.show();"
   ]
  },
  {
   "cell_type": "code",
   "execution_count": 79,
   "metadata": {},
   "outputs": [],
   "source": [
    "##process gt\n",
    "## MAT: with dilation\n",
    "# For processing MAT files\n",
    "def process_converted_mat(mat_file):\n",
    "    mat_data = mat73.loadmat(mat_file)\n",
    "    efpxTrace = mat_data['ans']\n",
    "    points = efpxTrace['Points']\n",
    "    diamters = efpxTrace['Diameter']\n",
    "    return points, diamters\n",
    "\n",
    "def mat_converted_df(mat_file):\n",
    "    points, diamters = process_mat(mat_file)\n",
    "    points = np.concatenate(points)\n",
    "    radius = []\n",
    "    for i in range(len(diamters)):\n",
    "        radius.append(diamters[i]/2)\n",
    "    radius = np.concatenate(radius)\n",
    "    df = pd.DataFrame(points, columns=['x', 'y', 'z'])\n",
    "    #make the coordinates positive\n",
    "    df['x'] = np.abs(df['x'])\n",
    "    df['y'] = np.abs(df['y'])\n",
    "    df['z'] = np.abs(df['z'])\n",
    "\n",
    "    #scale the coordinates\n",
    "    df['x'] = df['x']/0.180\n",
    "    df['y'] = df['y']/0.180\n",
    "    df['z'] = df['z']/0.500 # in microns\n",
    "    df['r'] = radius\n",
    "    return df\n",
    "\n",
    "def create_mat_cvt_binary_image(mat_file, image_size):\n",
    "    \"\"\"Create a 3D binary image from a mat file, dilating based on point-specific radii.\"\"\"\n",
    "    binary_image = np.zeros(image_size, dtype=np.uint8)\n",
    "    df = mat_df(mat_file)\n",
    "    coordinates = df[['x', 'y', 'z']].values\n",
    "    radii = df['r'].values\n",
    "    add_to_binary_image(binary_image, coordinates, radii)\n",
    "    return binary_image"
   ]
  },
  {
   "cell_type": "code",
   "execution_count": 85,
   "metadata": {},
   "outputs": [],
   "source": [
    "def get_cvt_neuron(mat_file,cellid:str):\n",
    "    mat_file = mat73.loadmat(mat_file)\n",
    "    efpxTrace = mat_file['ans']\n",
    "    efpxTrace = pd.DataFrame.from_dict(efpxTrace)\n",
    "    neuron = efpxTrace[efpxTrace['SetId'] == cellid]\n",
    "    points = neuron['Points']\n",
    "    points = np.array(points)\n",
    "    #make the coordinates positive\n",
    "    points = np.abs(points)\n",
    "    points = np.concatenate(points)\n",
    "    radius = neuron['Diameter']\n",
    "    radius = np.array(radius)/2\n",
    "    radius = np.concatenate(radius)\n",
    "    return points, radius"
   ]
  },
  {
   "cell_type": "code",
   "execution_count": 83,
   "metadata": {},
   "outputs": [],
   "source": [
    "def add_to_binary_image_cvt(binary_image, coordinates, radii):\n",
    "    \"\"\"Mark points in the binary image based on coordinates and dilate them with specific radii.\"\"\"\n",
    "    for (x, y, z), radius in zip(coordinates, radii):\n",
    "        #scale the coordinates\n",
    "        x = x/0.180\n",
    "        y = y/0.180\n",
    "        z = z/0.500 # in microns\n",
    "        if 0 <= x < binary_image.shape[2] and 0 <= y < binary_image.shape[1] and 0 <= z < binary_image.shape[0]:\n",
    "            # Adjust the dilation size based on the radius, ensuring it is at least 1\n",
    "            dilation_size = max(1, int(radius/2))\n",
    "            #add 10 to the radius\n",
    "            dilation_size = dilation_size + 10\n",
    "            selem = cube(dilation_size)\n",
    "            # Calculate the region to apply dilation\n",
    "            z_min, z_max = max(0, int(z) - dilation_size), min(binary_image.shape[0], int(z) + dilation_size + 1)\n",
    "            y_min, y_max = max(0, int(y) - dilation_size), min(binary_image.shape[1], int(y) + dilation_size + 1)\n",
    "            x_min, x_max = max(0, int(x) - dilation_size), min(binary_image.shape[2], int(x) + dilation_size + 1)\n",
    "            # Apply dilation only within the specified region to save computation\n",
    "            binary_image[z_min:z_max, y_min:y_max, x_min:x_max] |= binary_dilation(binary_image[z_min:z_max, y_min:y_max, x_min:x_max] == 0, selem)\n",
    "            #apply dilation to the whole image\n",
    "            #binary_image |= binary_dilation(binary_image == 0, selem)\n",
    "    return binary_image"
   ]
  },
  {
   "cell_type": "code",
   "execution_count": 132,
   "metadata": {},
   "outputs": [
    {
     "data": {
      "application/vnd.jupyter.widget-view+json": {
       "model_id": "e8c3e14663304ef9b295c7c19e452825",
       "version_major": 2,
       "version_minor": 0
      },
      "text/plain": [
       "  0%|          | 0/20 [00:00<?, ?it/s]"
      ]
     },
     "metadata": {},
     "output_type": "display_data"
    },
    {
     "name": "stdout",
     "output_type": "stream",
     "text": [
      "Processing neuron Cell 32\n",
      "Processing neuron Cell 14\n",
      "Processing neuron Cell 20\n",
      "Processing neuron Cell 22\n",
      "Processing neuron Cell 19\n",
      "Processing neuron Cell 18\n",
      "Processing neuron Cell 10\n",
      "Processing neuron Cell 29\n",
      "Processing neuron Cell 30\n",
      "Processing neuron Cell 26\n",
      "Processing neuron Cell 24\n",
      "Processing neuron Cell 15\n",
      "Processing neuron Cell 1\n",
      "Processing neuron Cell 23\n",
      "Processing neuron Cell 34\n",
      "Processing neuron Cell 16\n",
      "Processing neuron Cell 28\n",
      "Processing neuron Cell 33\n",
      "Processing neuron Cell 4\n",
      "Processing neuron Cell 36\n"
     ]
    }
   ],
   "source": [
    "single_gt_cvt = {}\n",
    "for n in tqdm(range(len(neurons))):\n",
    "    cell_id = neurons[n]\n",
    "    print(f'Processing neuron {cell_id}')\n",
    "    points,radii = get_cvt_neuron('D://QDyeFinder-main//manual_trace.mat', cell_id)\n",
    "    traces = add_to_binary_image_cvt(np.zeros(img_size, dtype=np.uint8), points, radii)\n",
    "    single_gt_cvt[cell_id] = traces"
   ]
  },
  {
   "cell_type": "code",
   "execution_count": 133,
   "metadata": {},
   "outputs": [
    {
     "data": {
      "image/png": "[encoded data removed]",
      "text/plain": [
       "<Figure size 1000x1000 with 20 Axes>"
      ]
     },
     "metadata": {},
     "output_type": "display_data"
    }
   ],
   "source": [
    "fig,ax = plt.subplots(5,4,figsize=(10,10))\n",
    "for i,(k,v) in enumerate(single_gt_cvt.items()):\n",
    "    ax[i//4,i%4].imshow(v.max(axis=0))\n",
    "    ax[i//4,i%4].set_title(k)\n",
    "    ax[i//4,i%4].axis('off')\n",
    "plt.tight_layout()\n",
    "plt.show();"
   ]
  },
  {
   "cell_type": "code",
   "execution_count": 142,
   "metadata": {},
   "outputs": [
    {
     "data": {
      "application/vnd.jupyter.widget-view+json": {
       "model_id": "15a5bea714414e84bfeaf081b568ee3a",
       "version_major": 2,
       "version_minor": 0
      },
      "text/plain": [
       "  0%|          | 0/20 [00:00<?, ?it/s]"
      ]
     },
     "metadata": {},
     "output_type": "display_data"
    }
   ],
   "source": [
    "gt_crops_cvt = {}\n",
    "qdye_crops_cvt = {}\n",
    "imaris_crops_cvt = {}\n",
    "\n",
    "for n in tqdm(range(len(neurons))):\n",
    "    cell_id = neurons[n]\n",
    "    gt = single_gt_cvt[cell_id]\n",
    "    qdye = single_qdye[cell_id]\n",
    "    imaris = single_autotraces[cell_id]\n",
    "    gt_crop,bbox = crop_img(gt)\n",
    "    qdye_crop,_ = crop_img(qdye,bbox=bbox)\n",
    "    imaris_crop,_ = crop_img(imaris,bbox=bbox)\n",
    "    gt_crops_cvt[cell_id] = gt_crop\n",
    "    qdye_crops_cvt[cell_id] = qdye_crop\n",
    "    imaris_crops_cvt[cell_id] = imaris_crop"
   ]
  },
  {
   "cell_type": "code",
   "execution_count": 145,
   "metadata": {},
   "outputs": [
    {
     "data": {
      "application/vnd.jupyter.widget-view+json": {
       "model_id": "56625341ddb44e138c40f94b2b25493a",
       "version_major": 2,
       "version_minor": 0
      },
      "text/plain": [
       "Calculating Intersection...:   0%|          | 0/20 [00:00<?, ?it/s]"
      ]
     },
     "metadata": {},
     "output_type": "display_data"
    }
   ],
   "source": [
    "intersection_imaris_gt_cvt = {}\n",
    "\n",
    "for n in tqdm(range(len(neurons)), desc='Calculating Intersection...'):\n",
    "    cell_id = neurons[n]\n",
    "    pred = single_autotraces[cell_id]\n",
    "    gt = single_gt_cvt[cell_id]\n",
    "    intersection, union, iou_score = iou(pred, gt)\n",
    "    intersection_imaris_gt_cvt[cell_id] = intersection"
   ]
  },
  {
   "cell_type": "code",
   "execution_count": 146,
   "metadata": {},
   "outputs": [
    {
     "data": {
      "application/vnd.jupyter.widget-view+json": {
       "model_id": "98791329b5134e7d91f3e9285fba3c3f",
       "version_major": 2,
       "version_minor": 0
      },
      "text/plain": [
       "Calculating Intersection...:   0%|          | 0/20 [00:00<?, ?it/s]"
      ]
     },
     "metadata": {},
     "output_type": "display_data"
    }
   ],
   "source": [
    "intersection_qdye_gt_cvt = {}\n",
    "\n",
    "for n in tqdm(range(len(neurons)), desc='Calculating Intersection...'):\n",
    "    cell_id = neurons[n]\n",
    "    pred = single_qdye[cell_id]\n",
    "    gt = single_gt_cvt[cell_id]\n",
    "    intersection, union, iou_score = iou(pred, gt)\n",
    "    intersection_qdye_gt_cvt[cell_id] = intersection\n"
   ]
  },
  {
   "cell_type": "code",
   "execution_count": 148,
   "metadata": {},
   "outputs": [],
   "source": [
    "#calculate the overlap percentage\n",
    "perc_overlap_imaris_gt_cvt = {}\n",
    "for n in range(len(neurons)):\n",
    "    cell_id = neurons[n]\n",
    "    intersection = intersection_imaris_gt_cvt[cell_id]\n",
    "    gt = single_gt_cvt[cell_id]\n",
    "    perc_overlap_imaris_gt_cvt[cell_id] = np.sum(intersection)/np.sum(gt)"
   ]
  },
  {
   "cell_type": "code",
   "execution_count": 149,
   "metadata": {},
   "outputs": [],
   "source": [
    "perc_overlap_qdye_gt_cvt = {}\n",
    "for n in range(len(neurons)):\n",
    "    cell_id = neurons[n]\n",
    "    intersection = intersection_qdye_gt_cvt[cell_id]\n",
    "    gt = single_gt_cvt[cell_id]\n",
    "    perc_overlap_qdye_gt_cvt[cell_id] = np.sum(intersection)/np.sum(gt)"
   ]
  },
  {
   "cell_type": "code",
   "execution_count": 152,
   "metadata": {},
   "outputs": [],
   "source": [
    "import plotly_express as px "
   ]
  },
  {
   "cell_type": "code",
   "execution_count": 253,
   "metadata": {},
   "outputs": [
    {
     "data": {
      "application/vnd.plotly.v1+json": {
       "config": {
        "plotlyServerURL": "https://plot.ly"
       },
       "data": [
        {
         "alignmentgroup": "True",
         "boxmean": true,
         "boxpoints": "all",
         "customdata": [
          [
           "Cell 32"
          ],
          [
           "Cell 14"
          ],
          [
           "Cell 20"
          ],
          [
           "Cell 22"
          ],
          [
           "Cell 19"
          ],
          [
           "Cell 18"
          ],
          [
           "Cell 10"
          ],
          [
           "Cell 29"
          ],
          [
           "Cell 30"
          ],
          [
           "Cell 26"
          ],
          [
           "Cell 24"
          ],
          [
           "Cell 15"
          ],
          [
           "Cell 1"
          ],
          [
           "Cell 23"
          ],
          [
           "Cell 34"
          ],
          [
           "Cell 16"
          ],
          [
           "Cell 28"
          ],
          [
           "Cell 33"
          ],
          [
           "Cell 4"
          ],
          [
           "Cell 36"
          ]
         ],
         "hovertemplate": "Group=%{y}<br>Overlap Percentage=%{x}<br>Neuron=%{customdata[0]}<extra></extra>",
         "legendgroup": "QDye-GT",
         "marker": {
          "color": "rgb(76,114,176)"
         },
         "name": "QDye-GT",
         "notched": false,
         "offsetgroup": "QDye-GT",
         "orientation": "h",
         "showlegend": true,
         "type": "box",
         "x": [
          0.8463109279490375,
          0.8525262262278777,
          0.869019863985074,
          0.8888571610602158,
          0.8428046665259967,
          0.8205523133214029,
          0.9030321494862947,
          0.8393104248475048,
          0.8302167640732673,
          0.8317719177971638,
          0.8542023143227077,
          0.858092727673224,
          0.9004097446182506,
          0.8688330039297346,
          0.8095779817775013,
          0.8315024996868551,
          0.8123824771317862,
          0.5373100960591722,
          0.4771939660014459,
          0.8127661574327861
         ],
         "x0": " ",
         "xaxis": "x",
         "y": [
          "QDye-GT",
          "QDye-GT",
          "QDye-GT",
          "QDye-GT",
          "QDye-GT",
          "QDye-GT",
          "QDye-GT",
          "QDye-GT",
          "QDye-GT",
          "QDye-GT",
          "QDye-GT",
          "QDye-GT",
          "QDye-GT",
          "QDye-GT",
          "QDye-GT",
          "QDye-GT",
          "QDye-GT",
          "QDye-GT",
          "QDye-GT",
          "QDye-GT"
         ],
         "y0": " ",
         "yaxis": "y"
        },
        {
         "alignmentgroup": "True",
         "boxmean": true,
         "boxpoints": "all",
         "customdata": [
          [
           "Cell 32"
          ],
          [
           "Cell 14"
          ],
          [
           "Cell 20"
          ],
          [
           "Cell 22"
          ],
          [
           "Cell 19"
          ],
          [
           "Cell 18"
          ],
          [
           "Cell 10"
          ],
          [
           "Cell 29"
          ],
          [
           "Cell 30"
          ],
          [
           "Cell 26"
          ],
          [
           "Cell 24"
          ],
          [
           "Cell 15"
          ],
          [
           "Cell 1"
          ],
          [
           "Cell 23"
          ],
          [
           "Cell 34"
          ],
          [
           "Cell 16"
          ],
          [
           "Cell 28"
          ],
          [
           "Cell 33"
          ],
          [
           "Cell 4"
          ],
          [
           "Cell 36"
          ]
         ],
         "hovertemplate": "Group=%{y}<br>Overlap Percentage=%{x}<br>Neuron=%{customdata[0]}<extra></extra>",
         "legendgroup": "Imaris-GT",
         "marker": {
          "color": "rgb(221,132,82)"
         },
         "name": "Imaris-GT",
         "notched": false,
         "offsetgroup": "Imaris-GT",
         "orientation": "h",
         "showlegend": true,
         "type": "box",
         "x": [
          0.14600619179764712,
          0.3965803182893421,
          0.3611365622514734,
          0.5248850767025839,
          0.1837885863600593,
          0.36096942167914803,
          0.22472504483900216,
          0.4897301071957156,
          0.07318591424521137,
          0.368038299705132,
          0.11000892638453041,
          0.07789935405057037,
          0.19726070447274813,
          0.47976560243856486,
          0.34980358057320793,
          0.2884484186486003,
          0.10757819272237092,
          0.07446806046036429,
          0.13352670995513977,
          0.11026730490707345
         ],
         "x0": " ",
         "xaxis": "x",
         "y": [
          "Imaris-GT",
          "Imaris-GT",
          "Imaris-GT",
          "Imaris-GT",
          "Imaris-GT",
          "Imaris-GT",
          "Imaris-GT",
          "Imaris-GT",
          "Imaris-GT",
          "Imaris-GT",
          "Imaris-GT",
          "Imaris-GT",
          "Imaris-GT",
          "Imaris-GT",
          "Imaris-GT",
          "Imaris-GT",
          "Imaris-GT",
          "Imaris-GT",
          "Imaris-GT",
          "Imaris-GT"
         ],
         "y0": " ",
         "yaxis": "y"
        }
       ],
       "layout": {
        "boxmode": "overlay",
        "height": 500,
        "legend": {
         "title": {
          "text": "Group"
         },
         "tracegroupgap": 0
        },
        "plot_bgcolor": "white",
        "showlegend": true,
        "template": {
         "data": {
          "bar": [
           {
            "error_x": {
             "color": "rgb(36,36,36)"
            },
            "error_y": {
             "color": "rgb(36,36,36)"
            },
            "marker": {
             "line": {
              "color": "rgb(234,234,242)",
              "width": 0.5
             },
             "pattern": {
              "fillmode": "overlay",
              "size": 10,
              "solidity": 0.2
             }
            },
            "type": "bar"
           }
          ],
          "barpolar": [
           {
            "marker": {
             "line": {
              "color": "rgb(234,234,242)",
              "width": 0.5
             },
             "pattern": {
              "fillmode": "overlay",
              "size": 10,
              "solidity": 0.2
             }
            },
            "type": "barpolar"
           }
          ],
          "carpet": [
           {
            "aaxis": {
             "endlinecolor": "rgb(36,36,36)",
             "gridcolor": "white",
             "linecolor": "white",
             "minorgridcolor": "white",
             "startlinecolor": "rgb(36,36,36)"
            },
            "baxis": {
             "endlinecolor": "rgb(36,36,36)",
             "gridcolor": "white",
             "linecolor": "white",
             "minorgridcolor": "white",
             "startlinecolor": "rgb(36,36,36)"
            },
            "type": "carpet"
           }
          ],
          "choropleth": [
           {
            "colorbar": {
             "outlinewidth": 0,
             "tickcolor": "rgb(36,36,36)",
             "ticklen": 8,
             "ticks": "outside",
             "tickwidth": 2
            },
            "type": "choropleth"
           }
          ],
          "contour": [
           {
            "colorbar": {
             "outlinewidth": 0,
             "tickcolor": "rgb(36,36,36)",
             "ticklen": 8,
             "ticks": "outside",
             "tickwidth": 2
            },
            "colorscale": [
             [
              0,
              "rgb(2,4,25)"
             ],
             [
              0.06274509803921569,
              "rgb(24,15,41)"
             ],
             [
              0.12549019607843137,
              "rgb(47,23,57)"
             ],
             [
              0.18823529411764706,
              "rgb(71,28,72)"
             ],
             [
              0.25098039215686274,
              "rgb(97,30,82)"
             ],
             [
              0.3137254901960784,
              "rgb(123,30,89)"
             ],
             [
              0.3764705882352941,
              "rgb(150,27,91)"
             ],
             [
              0.4392156862745098,
              "rgb(177,22,88)"
             ],
             [
              0.5019607843137255,
              "rgb(203,26,79)"
             ],
             [
              0.5647058823529412,
              "rgb(223,47,67)"
             ],
             [
              0.6274509803921569,
              "rgb(236,76,61)"
             ],
             [
              0.6901960784313725,
              "rgb(242,107,73)"
             ],
             [
              0.7529411764705882,
              "rgb(244,135,95)"
             ],
             [
              0.8156862745098039,
              "rgb(245,162,122)"
             ],
             [
              0.8784313725490196,
              "rgb(246,188,153)"
             ],
             [
              0.9411764705882353,
              "rgb(247,212,187)"
             ],
             [
              1,
              "rgb(250,234,220)"
             ]
            ],
            "type": "contour"
           }
          ],
          "contourcarpet": [
           {
            "colorbar": {
             "outlinewidth": 0,
             "tickcolor": "rgb(36,36,36)",
             "ticklen": 8,
             "ticks": "outside",
             "tickwidth": 2
            },
            "type": "contourcarpet"
           }
          ],
          "heatmap": [
           {
            "colorbar": {
             "outlinewidth": 0,
             "tickcolor": "rgb(36,36,36)",
             "ticklen": 8,
             "ticks": "outside",
             "tickwidth": 2
            },
            "colorscale": [
             [
              0,
              "rgb(2,4,25)"
             ],
             [
              0.06274509803921569,
              "rgb(24,15,41)"
             ],
             [
              0.12549019607843137,
              "rgb(47,23,57)"
             ],
             [
              0.18823529411764706,
              "rgb(71,28,72)"
             ],
             [
              0.25098039215686274,
              "rgb(97,30,82)"
             ],
             [
              0.3137254901960784,
              "rgb(123,30,89)"
             ],
             [
              0.3764705882352941,
              "rgb(150,27,91)"
             ],
             [
              0.4392156862745098,
              "rgb(177,22,88)"
             ],
             [
              0.5019607843137255,
              "rgb(203,26,79)"
             ],
             [
              0.5647058823529412,
              "rgb(223,47,67)"
             ],
             [
              0.6274509803921569,
              "rgb(236,76,61)"
             ],
             [
              0.6901960784313725,
              "rgb(242,107,73)"
             ],
             [
              0.7529411764705882,
              "rgb(244,135,95)"
             ],
             [
              0.8156862745098039,
              "rgb(245,162,122)"
             ],
             [
              0.8784313725490196,
              "rgb(246,188,153)"
             ],
             [
              0.9411764705882353,
              "rgb(247,212,187)"
             ],
             [
              1,
              "rgb(250,234,220)"
             ]
            ],
            "type": "heatmap"
           }
          ],
          "heatmapgl": [
           {
            "colorbar": {
             "outlinewidth": 0,
             "tickcolor": "rgb(36,36,36)",
             "ticklen": 8,
             "ticks": "outside",
             "tickwidth": 2
            },
            "colorscale": [
             [
              0,
              "rgb(2,4,25)"
             ],
             [
              0.06274509803921569,
              "rgb(24,15,41)"
             ],
             [
              0.12549019607843137,
              "rgb(47,23,57)"
             ],
             [
              0.18823529411764706,
              "rgb(71,28,72)"
             ],
             [
              0.25098039215686274,
              "rgb(97,30,82)"
             ],
             [
              0.3137254901960784,
              "rgb(123,30,89)"
             ],
             [
              0.3764705882352941,
              "rgb(150,27,91)"
             ],
             [
              0.4392156862745098,
              "rgb(177,22,88)"
             ],
             [
              0.5019607843137255,
              "rgb(203,26,79)"
             ],
             [
              0.5647058823529412,
              "rgb(223,47,67)"
             ],
             [
              0.6274509803921569,
              "rgb(236,76,61)"
             ],
             [
              0.6901960784313725,
              "rgb(242,107,73)"
             ],
             [
              0.7529411764705882,
              "rgb(244,135,95)"
             ],
             [
              0.8156862745098039,
              "rgb(245,162,122)"
             ],
             [
              0.8784313725490196,
              "rgb(246,188,153)"
             ],
             [
              0.9411764705882353,
              "rgb(247,212,187)"
             ],
             [
              1,
              "rgb(250,234,220)"
             ]
            ],
            "type": "heatmapgl"
           }
          ],
          "histogram": [
           {
            "marker": {
             "pattern": {
              "fillmode": "overlay",
              "size": 10,
              "solidity": 0.2
             }
            },
            "type": "histogram"
           }
          ],
          "histogram2d": [
           {
            "colorbar": {
             "outlinewidth": 0,
             "tickcolor": "rgb(36,36,36)",
             "ticklen": 8,
             "ticks": "outside",
             "tickwidth": 2
            },
            "colorscale": [
             [
              0,
              "rgb(2,4,25)"
             ],
             [
              0.06274509803921569,
              "rgb(24,15,41)"
             ],
             [
              0.12549019607843137,
              "rgb(47,23,57)"
             ],
             [
              0.18823529411764706,
              "rgb(71,28,72)"
             ],
             [
              0.25098039215686274,
              "rgb(97,30,82)"
             ],
             [
              0.3137254901960784,
              "rgb(123,30,89)"
             ],
             [
              0.3764705882352941,
              "rgb(150,27,91)"
             ],
             [
              0.4392156862745098,
              "rgb(177,22,88)"
             ],
             [
              0.5019607843137255,
              "rgb(203,26,79)"
             ],
             [
              0.5647058823529412,
              "rgb(223,47,67)"
             ],
             [
              0.6274509803921569,
              "rgb(236,76,61)"
             ],
             [
              0.6901960784313725,
              "rgb(242,107,73)"
             ],
             [
              0.7529411764705882,
              "rgb(244,135,95)"
             ],
             [
              0.8156862745098039,
              "rgb(245,162,122)"
             ],
             [
              0.8784313725490196,
              "rgb(246,188,153)"
             ],
             [
              0.9411764705882353,
              "rgb(247,212,187)"
             ],
             [
              1,
              "rgb(250,234,220)"
             ]
            ],
            "type": "histogram2d"
           }
          ],
          "histogram2dcontour": [
           {
            "colorbar": {
             "outlinewidth": 0,
             "tickcolor": "rgb(36,36,36)",
             "ticklen": 8,
             "ticks": "outside",
             "tickwidth": 2
            },
            "colorscale": [
             [
              0,
              "rgb(2,4,25)"
             ],
             [
              0.06274509803921569,
              "rgb(24,15,41)"
             ],
             [
              0.12549019607843137,
              "rgb(47,23,57)"
             ],
             [
              0.18823529411764706,
              "rgb(71,28,72)"
             ],
             [
              0.25098039215686274,
              "rgb(97,30,82)"
             ],
             [
              0.3137254901960784,
              "rgb(123,30,89)"
             ],
             [
              0.3764705882352941,
              "rgb(150,27,91)"
             ],
             [
              0.4392156862745098,
              "rgb(177,22,88)"
             ],
             [
              0.5019607843137255,
              "rgb(203,26,79)"
             ],
             [
              0.5647058823529412,
              "rgb(223,47,67)"
             ],
             [
              0.6274509803921569,
              "rgb(236,76,61)"
             ],
             [
              0.6901960784313725,
              "rgb(242,107,73)"
             ],
             [
              0.7529411764705882,
              "rgb(244,135,95)"
             ],
             [
              0.8156862745098039,
              "rgb(245,162,122)"
             ],
             [
              0.8784313725490196,
              "rgb(246,188,153)"
             ],
             [
              0.9411764705882353,
              "rgb(247,212,187)"
             ],
             [
              1,
              "rgb(250,234,220)"
             ]
            ],
            "type": "histogram2dcontour"
           }
          ],
          "mesh3d": [
           {
            "colorbar": {
             "outlinewidth": 0,
             "tickcolor": "rgb(36,36,36)",
             "ticklen": 8,
             "ticks": "outside",
             "tickwidth": 2
            },
            "type": "mesh3d"
           }
          ],
          "parcoords": [
           {
            "line": {
             "colorbar": {
              "outlinewidth": 0,
              "tickcolor": "rgb(36,36,36)",
              "ticklen": 8,
              "ticks": "outside",
              "tickwidth": 2
             }
            },
            "type": "parcoords"
           }
          ],
          "pie": [
           {
            "automargin": true,
            "type": "pie"
           }
          ],
          "scatter": [
           {
            "fillpattern": {
             "fillmode": "overlay",
             "size": 10,
             "solidity": 0.2
            },
            "type": "scatter"
           }
          ],
          "scatter3d": [
           {
            "line": {
             "colorbar": {
              "outlinewidth": 0,
              "tickcolor": "rgb(36,36,36)",
              "ticklen": 8,
              "ticks": "outside",
              "tickwidth": 2
             }
            },
            "marker": {
             "colorbar": {
              "outlinewidth": 0,
              "tickcolor": "rgb(36,36,36)",
              "ticklen": 8,
              "ticks": "outside",
              "tickwidth": 2
             }
            },
            "type": "scatter3d"
           }
          ],
          "scattercarpet": [
           {
            "marker": {
             "colorbar": {
              "outlinewidth": 0,
              "tickcolor": "rgb(36,36,36)",
              "ticklen": 8,
              "ticks": "outside",
              "tickwidth": 2
             }
            },
            "type": "scattercarpet"
           }
          ],
          "scattergeo": [
           {
            "marker": {
             "colorbar": {
              "outlinewidth": 0,
              "tickcolor": "rgb(36,36,36)",
              "ticklen": 8,
              "ticks": "outside",
              "tickwidth": 2
             }
            },
            "type": "scattergeo"
           }
          ],
          "scattergl": [
           {
            "marker": {
             "colorbar": {
              "outlinewidth": 0,
              "tickcolor": "rgb(36,36,36)",
              "ticklen": 8,
              "ticks": "outside",
              "tickwidth": 2
             }
            },
            "type": "scattergl"
           }
          ],
          "scattermapbox": [
           {
            "marker": {
             "colorbar": {
              "outlinewidth": 0,
              "tickcolor": "rgb(36,36,36)",
              "ticklen": 8,
              "ticks": "outside",
              "tickwidth": 2
             }
            },
            "type": "scattermapbox"
           }
          ],
          "scatterpolar": [
           {
            "marker": {
             "colorbar": {
              "outlinewidth": 0,
              "tickcolor": "rgb(36,36,36)",
              "ticklen": 8,
              "ticks": "outside",
              "tickwidth": 2
             }
            },
            "type": "scatterpolar"
           }
          ],
          "scatterpolargl": [
           {
            "marker": {
             "colorbar": {
              "outlinewidth": 0,
              "tickcolor": "rgb(36,36,36)",
              "ticklen": 8,
              "ticks": "outside",
              "tickwidth": 2
             }
            },
            "type": "scatterpolargl"
           }
          ],
          "scatterternary": [
           {
            "marker": {
             "colorbar": {
              "outlinewidth": 0,
              "tickcolor": "rgb(36,36,36)",
              "ticklen": 8,
              "ticks": "outside",
              "tickwidth": 2
             }
            },
            "type": "scatterternary"
           }
          ],
          "surface": [
           {
            "colorbar": {
             "outlinewidth": 0,
             "tickcolor": "rgb(36,36,36)",
             "ticklen": 8,
             "ticks": "outside",
             "tickwidth": 2
            },
            "colorscale": [
             [
              0,
              "rgb(2,4,25)"
             ],
             [
              0.06274509803921569,
              "rgb(24,15,41)"
             ],
             [
              0.12549019607843137,
              "rgb(47,23,57)"
             ],
             [
              0.18823529411764706,
              "rgb(71,28,72)"
             ],
             [
              0.25098039215686274,
              "rgb(97,30,82)"
             ],
             [
              0.3137254901960784,
              "rgb(123,30,89)"
             ],
             [
              0.3764705882352941,
              "rgb(150,27,91)"
             ],
             [
              0.4392156862745098,
              "rgb(177,22,88)"
             ],
             [
              0.5019607843137255,
              "rgb(203,26,79)"
             ],
             [
              0.5647058823529412,
              "rgb(223,47,67)"
             ],
             [
              0.6274509803921569,
              "rgb(236,76,61)"
             ],
             [
              0.6901960784313725,
              "rgb(242,107,73)"
             ],
             [
              0.7529411764705882,
              "rgb(244,135,95)"
             ],
             [
              0.8156862745098039,
              "rgb(245,162,122)"
             ],
             [
              0.8784313725490196,
              "rgb(246,188,153)"
             ],
             [
              0.9411764705882353,
              "rgb(247,212,187)"
             ],
             [
              1,
              "rgb(250,234,220)"
             ]
            ],
            "type": "surface"
           }
          ],
          "table": [
           {
            "cells": {
             "fill": {
              "color": "rgb(231,231,240)"
             },
             "line": {
              "color": "white"
             }
            },
            "header": {
             "fill": {
              "color": "rgb(183,183,191)"
             },
             "line": {
              "color": "white"
             }
            },
            "type": "table"
           }
          ]
         },
         "layout": {
          "annotationdefaults": {
           "arrowcolor": "rgb(67,103,167)"
          },
          "autotypenumbers": "strict",
          "coloraxis": {
           "colorbar": {
            "outlinewidth": 0,
            "tickcolor": "rgb(36,36,36)",
            "ticklen": 8,
            "ticks": "outside",
            "tickwidth": 2
           }
          },
          "colorscale": {
           "sequential": [
            [
             0,
             "rgb(2,4,25)"
            ],
            [
             0.06274509803921569,
             "rgb(24,15,41)"
            ],
            [
             0.12549019607843137,
             "rgb(47,23,57)"
            ],
            [
             0.18823529411764706,
             "rgb(71,28,72)"
            ],
            [
             0.25098039215686274,
             "rgb(97,30,82)"
            ],
            [
             0.3137254901960784,
             "rgb(123,30,89)"
            ],
            [
             0.3764705882352941,
             "rgb(150,27,91)"
            ],
            [
             0.4392156862745098,
             "rgb(177,22,88)"
            ],
            [
             0.5019607843137255,
             "rgb(203,26,79)"
            ],
            [
             0.5647058823529412,
             "rgb(223,47,67)"
            ],
            [
             0.6274509803921569,
             "rgb(236,76,61)"
            ],
            [
             0.6901960784313725,
             "rgb(242,107,73)"
            ],
            [
             0.7529411764705882,
             "rgb(244,135,95)"
            ],
            [
             0.8156862745098039,
             "rgb(245,162,122)"
            ],
            [
             0.8784313725490196,
             "rgb(246,188,153)"
            ],
            [
             0.9411764705882353,
             "rgb(247,212,187)"
            ],
            [
             1,
             "rgb(250,234,220)"
            ]
           ],
           "sequentialminus": [
            [
             0,
             "rgb(2,4,25)"
            ],
            [
             0.06274509803921569,
             "rgb(24,15,41)"
            ],
            [
             0.12549019607843137,
             "rgb(47,23,57)"
            ],
            [
             0.18823529411764706,
             "rgb(71,28,72)"
            ],
            [
             0.25098039215686274,
             "rgb(97,30,82)"
            ],
            [
             0.3137254901960784,
             "rgb(123,30,89)"
            ],
            [
             0.3764705882352941,
             "rgb(150,27,91)"
            ],
            [
             0.4392156862745098,
             "rgb(177,22,88)"
            ],
            [
             0.5019607843137255,
             "rgb(203,26,79)"
            ],
            [
             0.5647058823529412,
             "rgb(223,47,67)"
            ],
            [
             0.6274509803921569,
             "rgb(236,76,61)"
            ],
            [
             0.6901960784313725,
             "rgb(242,107,73)"
            ],
            [
             0.7529411764705882,
             "rgb(244,135,95)"
            ],
            [
             0.8156862745098039,
             "rgb(245,162,122)"
            ],
            [
             0.8784313725490196,
             "rgb(246,188,153)"
            ],
            [
             0.9411764705882353,
             "rgb(247,212,187)"
            ],
            [
             1,
             "rgb(250,234,220)"
            ]
           ]
          },
          "colorway": [
           "rgb(76,114,176)",
           "rgb(221,132,82)",
           "rgb(85,168,104)",
           "rgb(196,78,82)",
           "rgb(129,114,179)",
           "rgb(147,120,96)",
           "rgb(218,139,195)",
           "rgb(140,140,140)",
           "rgb(204,185,116)",
           "rgb(100,181,205)"
          ],
          "font": {
           "color": "rgb(36,36,36)"
          },
          "geo": {
           "bgcolor": "white",
           "lakecolor": "white",
           "landcolor": "rgb(234,234,242)",
           "showlakes": true,
           "showland": true,
           "subunitcolor": "white"
          },
          "hoverlabel": {
           "align": "left"
          },
          "hovermode": "closest",
          "paper_bgcolor": "white",
          "plot_bgcolor": "rgb(234,234,242)",
          "polar": {
           "angularaxis": {
            "gridcolor": "white",
            "linecolor": "white",
            "showgrid": true,
            "ticks": ""
           },
           "bgcolor": "rgb(234,234,242)",
           "radialaxis": {
            "gridcolor": "white",
            "linecolor": "white",
            "showgrid": true,
            "ticks": ""
           }
          },
          "scene": {
           "xaxis": {
            "backgroundcolor": "rgb(234,234,242)",
            "gridcolor": "white",
            "gridwidth": 2,
            "linecolor": "white",
            "showbackground": true,
            "showgrid": true,
            "ticks": "",
            "zerolinecolor": "white"
           },
           "yaxis": {
            "backgroundcolor": "rgb(234,234,242)",
            "gridcolor": "white",
            "gridwidth": 2,
            "linecolor": "white",
            "showbackground": true,
            "showgrid": true,
            "ticks": "",
            "zerolinecolor": "white"
           },
           "zaxis": {
            "backgroundcolor": "rgb(234,234,242)",
            "gridcolor": "white",
            "gridwidth": 2,
            "linecolor": "white",
            "showbackground": true,
            "showgrid": true,
            "ticks": "",
            "zerolinecolor": "white"
           }
          },
          "shapedefaults": {
           "fillcolor": "rgb(67,103,167)",
           "line": {
            "width": 0
           },
           "opacity": 0.5
          },
          "ternary": {
           "aaxis": {
            "gridcolor": "white",
            "linecolor": "white",
            "showgrid": true,
            "ticks": ""
           },
           "baxis": {
            "gridcolor": "white",
            "linecolor": "white",
            "showgrid": true,
            "ticks": ""
           },
           "bgcolor": "rgb(234,234,242)",
           "caxis": {
            "gridcolor": "white",
            "linecolor": "white",
            "showgrid": true,
            "ticks": ""
           }
          },
          "xaxis": {
           "automargin": true,
           "gridcolor": "white",
           "linecolor": "white",
           "showgrid": true,
           "ticks": "",
           "title": {
            "standoff": 15
           },
           "zerolinecolor": "white"
          },
          "yaxis": {
           "automargin": true,
           "gridcolor": "white",
           "linecolor": "white",
           "showgrid": true,
           "ticks": "",
           "title": {
            "standoff": 15
           },
           "zerolinecolor": "white"
          }
         }
        },
        "title": {
         "text": "Overlap Percentage between Imaris and QDye with GT"
        },
        "width": 800,
        "xaxis": {
         "anchor": "y",
         "domain": [
          0,
          1
         ],
         "title": {
          "text": "Overlap Percentage"
         }
        },
        "yaxis": {
         "anchor": "x",
         "categoryarray": [
          "Imaris-GT",
          "QDye-GT"
         ],
         "categoryorder": "array",
         "domain": [
          0,
          1
         ],
         "title": {
          "text": "Group"
         }
        }
       }
      }
     },
     "metadata": {},
     "output_type": "display_data"
    }
   ],
   "source": [
    "#plot the overlap percentage for the two groups-plotly\n",
    "df = pd.DataFrame({'Neuron':neurons,'QDye-GT':list(perc_overlap_qdye_gt_cvt.values()),'Imaris-GT':list(perc_overlap_imaris_gt_cvt.values())})\n",
    "df = pd.melt(df,id_vars='Neuron',var_name='Group',value_name='Overlap Percentage')\n",
    "#fig = px.box(df,y='Group',x='Overlap Percentage',color='Group',points='all',hover_data=['Neuron'],title='Overlap Percentage between Imaris and QDye with GT',height=500,width=800,template='seaborn')\n",
    "##remove the background color\n",
    "#fig.update_layout(plot_bgcolor='white')\n",
    "##show a frame around the plot\n",
    "#fig.update_layout(showlegend=True)\n",
    "#fig.update_traces(boxmean=True)\n",
    "#fig.show();"
   ]
  },
  {
   "cell_type": "code",
   "execution_count": 169,
   "metadata": {},
   "outputs": [
    {
     "data": {
      "text/html": [
       "<div>\n",
       "<style scoped>\n",
       "    .dataframe tbody tr th:only-of-type {\n",
       "        vertical-align: middle;\n",
       "    }\n",
       "\n",
       "    .dataframe tbody tr th {\n",
       "        vertical-align: top;\n",
       "    }\n",
       "\n",
       "    .dataframe thead th {\n",
       "        text-align: right;\n",
       "    }\n",
       "</style>\n",
       "<table border=\"1\" class=\"dataframe\">\n",
       "  <thead>\n",
       "    <tr style=\"text-align: right;\">\n",
       "      <th></th>\n",
       "      <th>Neuron</th>\n",
       "      <th>Group</th>\n",
       "      <th>Overlap Percentage</th>\n",
       "    </tr>\n",
       "  </thead>\n",
       "  <tbody>\n",
       "    <tr>\n",
       "      <th>0</th>\n",
       "      <td>Cell 32</td>\n",
       "      <td>Imaris-GT</td>\n",
       "      <td>0.146006</td>\n",
       "    </tr>\n",
       "    <tr>\n",
       "      <th>1</th>\n",
       "      <td>Cell 14</td>\n",
       "      <td>Imaris-GT</td>\n",
       "      <td>0.396580</td>\n",
       "    </tr>\n",
       "    <tr>\n",
       "      <th>2</th>\n",
       "      <td>Cell 20</td>\n",
       "      <td>Imaris-GT</td>\n",
       "      <td>0.361137</td>\n",
       "    </tr>\n",
       "    <tr>\n",
       "      <th>3</th>\n",
       "      <td>Cell 22</td>\n",
       "      <td>Imaris-GT</td>\n",
       "      <td>0.524885</td>\n",
       "    </tr>\n",
       "    <tr>\n",
       "      <th>4</th>\n",
       "      <td>Cell 19</td>\n",
       "      <td>Imaris-GT</td>\n",
       "      <td>0.183789</td>\n",
       "    </tr>\n",
       "    <tr>\n",
       "      <th>5</th>\n",
       "      <td>Cell 18</td>\n",
       "      <td>Imaris-GT</td>\n",
       "      <td>0.360969</td>\n",
       "    </tr>\n",
       "    <tr>\n",
       "      <th>6</th>\n",
       "      <td>Cell 10</td>\n",
       "      <td>Imaris-GT</td>\n",
       "      <td>0.224725</td>\n",
       "    </tr>\n",
       "    <tr>\n",
       "      <th>7</th>\n",
       "      <td>Cell 29</td>\n",
       "      <td>Imaris-GT</td>\n",
       "      <td>0.489730</td>\n",
       "    </tr>\n",
       "    <tr>\n",
       "      <th>8</th>\n",
       "      <td>Cell 30</td>\n",
       "      <td>Imaris-GT</td>\n",
       "      <td>0.073186</td>\n",
       "    </tr>\n",
       "    <tr>\n",
       "      <th>9</th>\n",
       "      <td>Cell 26</td>\n",
       "      <td>Imaris-GT</td>\n",
       "      <td>0.368038</td>\n",
       "    </tr>\n",
       "    <tr>\n",
       "      <th>10</th>\n",
       "      <td>Cell 24</td>\n",
       "      <td>Imaris-GT</td>\n",
       "      <td>0.110009</td>\n",
       "    </tr>\n",
       "    <tr>\n",
       "      <th>11</th>\n",
       "      <td>Cell 15</td>\n",
       "      <td>Imaris-GT</td>\n",
       "      <td>0.077899</td>\n",
       "    </tr>\n",
       "    <tr>\n",
       "      <th>12</th>\n",
       "      <td>Cell 1</td>\n",
       "      <td>Imaris-GT</td>\n",
       "      <td>0.197261</td>\n",
       "    </tr>\n",
       "    <tr>\n",
       "      <th>13</th>\n",
       "      <td>Cell 23</td>\n",
       "      <td>Imaris-GT</td>\n",
       "      <td>0.479766</td>\n",
       "    </tr>\n",
       "    <tr>\n",
       "      <th>14</th>\n",
       "      <td>Cell 34</td>\n",
       "      <td>Imaris-GT</td>\n",
       "      <td>0.349804</td>\n",
       "    </tr>\n",
       "    <tr>\n",
       "      <th>15</th>\n",
       "      <td>Cell 16</td>\n",
       "      <td>Imaris-GT</td>\n",
       "      <td>0.288448</td>\n",
       "    </tr>\n",
       "    <tr>\n",
       "      <th>16</th>\n",
       "      <td>Cell 28</td>\n",
       "      <td>Imaris-GT</td>\n",
       "      <td>0.107578</td>\n",
       "    </tr>\n",
       "    <tr>\n",
       "      <th>17</th>\n",
       "      <td>Cell 33</td>\n",
       "      <td>Imaris-GT</td>\n",
       "      <td>0.074468</td>\n",
       "    </tr>\n",
       "    <tr>\n",
       "      <th>18</th>\n",
       "      <td>Cell 4</td>\n",
       "      <td>Imaris-GT</td>\n",
       "      <td>0.133527</td>\n",
       "    </tr>\n",
       "    <tr>\n",
       "      <th>19</th>\n",
       "      <td>Cell 36</td>\n",
       "      <td>Imaris-GT</td>\n",
       "      <td>0.110267</td>\n",
       "    </tr>\n",
       "    <tr>\n",
       "      <th>20</th>\n",
       "      <td>Cell 32</td>\n",
       "      <td>QDye-GT</td>\n",
       "      <td>0.846311</td>\n",
       "    </tr>\n",
       "    <tr>\n",
       "      <th>21</th>\n",
       "      <td>Cell 14</td>\n",
       "      <td>QDye-GT</td>\n",
       "      <td>0.852526</td>\n",
       "    </tr>\n",
       "    <tr>\n",
       "      <th>22</th>\n",
       "      <td>Cell 20</td>\n",
       "      <td>QDye-GT</td>\n",
       "      <td>0.869020</td>\n",
       "    </tr>\n",
       "    <tr>\n",
       "      <th>23</th>\n",
       "      <td>Cell 22</td>\n",
       "      <td>QDye-GT</td>\n",
       "      <td>0.888857</td>\n",
       "    </tr>\n",
       "    <tr>\n",
       "      <th>24</th>\n",
       "      <td>Cell 19</td>\n",
       "      <td>QDye-GT</td>\n",
       "      <td>0.842805</td>\n",
       "    </tr>\n",
       "    <tr>\n",
       "      <th>25</th>\n",
       "      <td>Cell 18</td>\n",
       "      <td>QDye-GT</td>\n",
       "      <td>0.820552</td>\n",
       "    </tr>\n",
       "    <tr>\n",
       "      <th>26</th>\n",
       "      <td>Cell 10</td>\n",
       "      <td>QDye-GT</td>\n",
       "      <td>0.903032</td>\n",
       "    </tr>\n",
       "    <tr>\n",
       "      <th>27</th>\n",
       "      <td>Cell 29</td>\n",
       "      <td>QDye-GT</td>\n",
       "      <td>0.839310</td>\n",
       "    </tr>\n",
       "    <tr>\n",
       "      <th>28</th>\n",
       "      <td>Cell 30</td>\n",
       "      <td>QDye-GT</td>\n",
       "      <td>0.830217</td>\n",
       "    </tr>\n",
       "    <tr>\n",
       "      <th>29</th>\n",
       "      <td>Cell 26</td>\n",
       "      <td>QDye-GT</td>\n",
       "      <td>0.831772</td>\n",
       "    </tr>\n",
       "  </tbody>\n",
       "</table>\n",
       "</div>"
      ],
      "text/plain": [
       "     Neuron      Group  Overlap Percentage\n",
       "0   Cell 32  Imaris-GT            0.146006\n",
       "1   Cell 14  Imaris-GT            0.396580\n",
       "2   Cell 20  Imaris-GT            0.361137\n",
       "3   Cell 22  Imaris-GT            0.524885\n",
       "4   Cell 19  Imaris-GT            0.183789\n",
       "5   Cell 18  Imaris-GT            0.360969\n",
       "6   Cell 10  Imaris-GT            0.224725\n",
       "7   Cell 29  Imaris-GT            0.489730\n",
       "8   Cell 30  Imaris-GT            0.073186\n",
       "9   Cell 26  Imaris-GT            0.368038\n",
       "10  Cell 24  Imaris-GT            0.110009\n",
       "11  Cell 15  Imaris-GT            0.077899\n",
       "12   Cell 1  Imaris-GT            0.197261\n",
       "13  Cell 23  Imaris-GT            0.479766\n",
       "14  Cell 34  Imaris-GT            0.349804\n",
       "15  Cell 16  Imaris-GT            0.288448\n",
       "16  Cell 28  Imaris-GT            0.107578\n",
       "17  Cell 33  Imaris-GT            0.074468\n",
       "18   Cell 4  Imaris-GT            0.133527\n",
       "19  Cell 36  Imaris-GT            0.110267\n",
       "20  Cell 32    QDye-GT            0.846311\n",
       "21  Cell 14    QDye-GT            0.852526\n",
       "22  Cell 20    QDye-GT            0.869020\n",
       "23  Cell 22    QDye-GT            0.888857\n",
       "24  Cell 19    QDye-GT            0.842805\n",
       "25  Cell 18    QDye-GT            0.820552\n",
       "26  Cell 10    QDye-GT            0.903032\n",
       "27  Cell 29    QDye-GT            0.839310\n",
       "28  Cell 30    QDye-GT            0.830217\n",
       "29  Cell 26    QDye-GT            0.831772"
      ]
     },
     "execution_count": 169,
     "metadata": {},
     "output_type": "execute_result"
    }
   ],
   "source": [
    "df.head(30)"
   ]
  },
  {
   "cell_type": "code",
   "execution_count": 170,
   "metadata": {},
   "outputs": [
    {
     "name": "stdout",
     "output_type": "stream",
     "text": [
      "Mann-Whitney U test statistic: 3.0, p-value: 1.0645689837502488e-07\n"
     ]
    }
   ],
   "source": [
    "#perform non-parametric test to compare the two groups\n",
    "#Groups: Imaris-GT and QDye-GT\n",
    "from scipy import stats\n",
    "imaris_gt = list(perc_overlap_imaris_gt_cvt.values())\n",
    "qdye_gt = list(perc_overlap_qdye_gt_cvt.values())\n",
    "\n",
    "statistic,p_value = stats.mannwhitneyu(imaris_gt,qdye_gt)\n",
    "print(f'Mann-Whitney U test statistic: {statistic}, p-value: {p_value}')"
   ]
  },
  {
   "cell_type": "code",
   "execution_count": 242,
   "metadata": {},
   "outputs": [
    {
     "data": {
      "image/png": "[encoded data removed]",
      "text/plain": [
       "<Figure size 800x500 with 1 Axes>"
      ]
     },
     "metadata": {},
     "output_type": "display_data"
    }
   ],
   "source": [
    "fig, ax = plt.subplots(figsize=(8, 5))\n",
    "\n",
    "# Create the boxplot\n",
    "#flierprops = dict(marker='o', markerfacecolor='red', markersize=5, linestyle='none')\n",
    "bp = sns.boxplot(data=[qdye_gt,imaris_gt], ax=ax, palette=[\"#1f77b4\", \"#ff7f0e\"],width=0.5,orient='h',fill=True)\n",
    "\n",
    "# Plot the individual data points using swarmplot\n",
    "sns.swarmplot(data=[qdye_gt,imaris_gt], ax=ax, color='black', size=3,orient='h')\n",
    "\n",
    "# Set the labels and title\n",
    "ax.set_yticklabels(['Qdye-GT', 'Imaris-GT'])\n",
    "ax.set_xlabel('Overlap Percentage')\n",
    "ax.set_title('Boxplot of Overlap Percentages')\n",
    "\n",
    "# Add the Mann-Whitney U test result as text\n",
    "if p_value < 0.001:\n",
    "    significance = '***'\n",
    "elif p_value < 0.01:\n",
    "    significance = '**'\n",
    "elif p_value < 0.05:\n",
    "    significance = '*'\n",
    "else:\n",
    "    significance = 'ns'\n",
    "\n",
    "# Add the Mann-Whitney U test result as text outside the plot\n",
    "ax.text(0.5,-0.4, f'Mann-Whitney U test\\np = {p_value:.3e}', ha='center', va='center', fontsize=9)\n",
    "\n",
    "# Adjust the spacing and display the plot\n",
    "fig.tight_layout()\n",
    "plt.show()"
   ]
  },
  {
   "cell_type": "code",
   "execution_count": 265,
   "metadata": {},
   "outputs": [
    {
     "data": {
      "application/vnd.plotly.v1+json": {
       "config": {
        "plotlyServerURL": "https://plot.ly"
       },
       "data": [
        {
         "alignmentgroup": "True",
         "boxmean": true,
         "boxpoints": "all",
         "customdata": [
          [
           "Cell 32"
          ],
          [
           "Cell 14"
          ],
          [
           "Cell 20"
          ],
          [
           "Cell 22"
          ],
          [
           "Cell 19"
          ],
          [
           "Cell 18"
          ],
          [
           "Cell 10"
          ],
          [
           "Cell 29"
          ],
          [
           "Cell 30"
          ],
          [
           "Cell 26"
          ],
          [
           "Cell 24"
          ],
          [
           "Cell 15"
          ],
          [
           "Cell 1"
          ],
          [
           "Cell 23"
          ],
          [
           "Cell 34"
          ],
          [
           "Cell 16"
          ],
          [
           "Cell 28"
          ],
          [
           "Cell 33"
          ],
          [
           "Cell 4"
          ],
          [
           "Cell 36"
          ]
         ],
         "hovertemplate": "Group=%{y}<br>Overlap Percentage=%{x}<br>Neuron=%{customdata[0]}<extra></extra>",
         "legendgroup": "QDye-GT",
         "marker": {
          "color": "rgb(76,114,176)"
         },
         "name": "QDye-GT",
         "notched": false,
         "offsetgroup": "QDye-GT",
         "orientation": "h",
         "showlegend": true,
         "type": "box",
         "x": [
          0.8463109279490375,
          0.8525262262278777,
          0.869019863985074,
          0.8888571610602158,
          0.8428046665259967,
          0.8205523133214029,
          0.9030321494862947,
          0.8393104248475048,
          0.8302167640732673,
          0.8317719177971638,
          0.8542023143227077,
          0.858092727673224,
          0.9004097446182506,
          0.8688330039297346,
          0.8095779817775013,
          0.8315024996868551,
          0.8123824771317862,
          0.5373100960591722,
          0.4771939660014459,
          0.8127661574327861
         ],
         "x0": " ",
         "xaxis": "x",
         "y": [
          "QDye-GT",
          "QDye-GT",
          "QDye-GT",
          "QDye-GT",
          "QDye-GT",
          "QDye-GT",
          "QDye-GT",
          "QDye-GT",
          "QDye-GT",
          "QDye-GT",
          "QDye-GT",
          "QDye-GT",
          "QDye-GT",
          "QDye-GT",
          "QDye-GT",
          "QDye-GT",
          "QDye-GT",
          "QDye-GT",
          "QDye-GT",
          "QDye-GT"
         ],
         "y0": " ",
         "yaxis": "y"
        },
        {
         "alignmentgroup": "True",
         "boxmean": true,
         "boxpoints": "all",
         "customdata": [
          [
           "Cell 32"
          ],
          [
           "Cell 14"
          ],
          [
           "Cell 20"
          ],
          [
           "Cell 22"
          ],
          [
           "Cell 19"
          ],
          [
           "Cell 18"
          ],
          [
           "Cell 10"
          ],
          [
           "Cell 29"
          ],
          [
           "Cell 30"
          ],
          [
           "Cell 26"
          ],
          [
           "Cell 24"
          ],
          [
           "Cell 15"
          ],
          [
           "Cell 1"
          ],
          [
           "Cell 23"
          ],
          [
           "Cell 34"
          ],
          [
           "Cell 16"
          ],
          [
           "Cell 28"
          ],
          [
           "Cell 33"
          ],
          [
           "Cell 4"
          ],
          [
           "Cell 36"
          ]
         ],
         "hovertemplate": "Group=%{y}<br>Overlap Percentage=%{x}<br>Neuron=%{customdata[0]}<extra></extra>",
         "legendgroup": "Imaris-GT",
         "marker": {
          "color": "rgb(221,132,82)"
         },
         "name": "Imaris-GT",
         "notched": false,
         "offsetgroup": "Imaris-GT",
         "orientation": "h",
         "showlegend": true,
         "type": "box",
         "x": [
          0.14600619179764712,
          0.3965803182893421,
          0.3611365622514734,
          0.5248850767025839,
          0.1837885863600593,
          0.36096942167914803,
          0.22472504483900216,
          0.4897301071957156,
          0.07318591424521137,
          0.368038299705132,
          0.11000892638453041,
          0.07789935405057037,
          0.19726070447274813,
          0.47976560243856486,
          0.34980358057320793,
          0.2884484186486003,
          0.10757819272237092,
          0.07446806046036429,
          0.13352670995513977,
          0.11026730490707345
         ],
         "x0": " ",
         "xaxis": "x",
         "y": [
          "Imaris-GT",
          "Imaris-GT",
          "Imaris-GT",
          "Imaris-GT",
          "Imaris-GT",
          "Imaris-GT",
          "Imaris-GT",
          "Imaris-GT",
          "Imaris-GT",
          "Imaris-GT",
          "Imaris-GT",
          "Imaris-GT",
          "Imaris-GT",
          "Imaris-GT",
          "Imaris-GT",
          "Imaris-GT",
          "Imaris-GT",
          "Imaris-GT",
          "Imaris-GT",
          "Imaris-GT"
         ],
         "y0": " ",
         "yaxis": "y"
        }
       ],
       "layout": {
        "boxmode": "overlay",
        "height": 500,
        "legend": {
         "title": {
          "font": {
           "family": "Arial"
          },
          "text": "Group"
         },
         "tracegroupgap": 0
        },
        "plot_bgcolor": "white",
        "showlegend": true,
        "template": {
         "data": {
          "bar": [
           {
            "error_x": {
             "color": "rgb(36,36,36)"
            },
            "error_y": {
             "color": "rgb(36,36,36)"
            },
            "marker": {
             "line": {
              "color": "rgb(234,234,242)",
              "width": 0.5
             },
             "pattern": {
              "fillmode": "overlay",
              "size": 10,
              "solidity": 0.2
             }
            },
            "type": "bar"
           }
          ],
          "barpolar": [
           {
            "marker": {
             "line": {
              "color": "rgb(234,234,242)",
              "width": 0.5
             },
             "pattern": {
              "fillmode": "overlay",
              "size": 10,
              "solidity": 0.2
             }
            },
            "type": "barpolar"
           }
          ],
          "carpet": [
           {
            "aaxis": {
             "endlinecolor": "rgb(36,36,36)",
             "gridcolor": "white",
             "linecolor": "white",
             "minorgridcolor": "white",
             "startlinecolor": "rgb(36,36,36)"
            },
            "baxis": {
             "endlinecolor": "rgb(36,36,36)",
             "gridcolor": "white",
             "linecolor": "white",
             "minorgridcolor": "white",
             "startlinecolor": "rgb(36,36,36)"
            },
            "type": "carpet"
           }
          ],
          "choropleth": [
           {
            "colorbar": {
             "outlinewidth": 0,
             "tickcolor": "rgb(36,36,36)",
             "ticklen": 8,
             "ticks": "outside",
             "tickwidth": 2
            },
            "type": "choropleth"
           }
          ],
          "contour": [
           {
            "colorbar": {
             "outlinewidth": 0,
             "tickcolor": "rgb(36,36,36)",
             "ticklen": 8,
             "ticks": "outside",
             "tickwidth": 2
            },
            "colorscale": [
             [
              0,
              "rgb(2,4,25)"
             ],
             [
              0.06274509803921569,
              "rgb(24,15,41)"
             ],
             [
              0.12549019607843137,
              "rgb(47,23,57)"
             ],
             [
              0.18823529411764706,
              "rgb(71,28,72)"
             ],
             [
              0.25098039215686274,
              "rgb(97,30,82)"
             ],
             [
              0.3137254901960784,
              "rgb(123,30,89)"
             ],
             [
              0.3764705882352941,
              "rgb(150,27,91)"
             ],
             [
              0.4392156862745098,
              "rgb(177,22,88)"
             ],
             [
              0.5019607843137255,
              "rgb(203,26,79)"
             ],
             [
              0.5647058823529412,
              "rgb(223,47,67)"
             ],
             [
              0.6274509803921569,
              "rgb(236,76,61)"
             ],
             [
              0.6901960784313725,
              "rgb(242,107,73)"
             ],
             [
              0.7529411764705882,
              "rgb(244,135,95)"
             ],
             [
              0.8156862745098039,
              "rgb(245,162,122)"
             ],
             [
              0.8784313725490196,
              "rgb(246,188,153)"
             ],
             [
              0.9411764705882353,
              "rgb(247,212,187)"
             ],
             [
              1,
              "rgb(250,234,220)"
             ]
            ],
            "type": "contour"
           }
          ],
          "contourcarpet": [
           {
            "colorbar": {
             "outlinewidth": 0,
             "tickcolor": "rgb(36,36,36)",
             "ticklen": 8,
             "ticks": "outside",
             "tickwidth": 2
            },
            "type": "contourcarpet"
           }
          ],
          "heatmap": [
           {
            "colorbar": {
             "outlinewidth": 0,
             "tickcolor": "rgb(36,36,36)",
             "ticklen": 8,
             "ticks": "outside",
             "tickwidth": 2
            },
            "colorscale": [
             [
              0,
              "rgb(2,4,25)"
             ],
             [
              0.06274509803921569,
              "rgb(24,15,41)"
             ],
             [
              0.12549019607843137,
              "rgb(47,23,57)"
             ],
             [
              0.18823529411764706,
              "rgb(71,28,72)"
             ],
             [
              0.25098039215686274,
              "rgb(97,30,82)"
             ],
             [
              0.3137254901960784,
              "rgb(123,30,89)"
             ],
             [
              0.3764705882352941,
              "rgb(150,27,91)"
             ],
             [
              0.4392156862745098,
              "rgb(177,22,88)"
             ],
             [
              0.5019607843137255,
              "rgb(203,26,79)"
             ],
             [
              0.5647058823529412,
              "rgb(223,47,67)"
             ],
             [
              0.6274509803921569,
              "rgb(236,76,61)"
             ],
             [
              0.6901960784313725,
              "rgb(242,107,73)"
             ],
             [
              0.7529411764705882,
              "rgb(244,135,95)"
             ],
             [
              0.8156862745098039,
              "rgb(245,162,122)"
             ],
             [
              0.8784313725490196,
              "rgb(246,188,153)"
             ],
             [
              0.9411764705882353,
              "rgb(247,212,187)"
             ],
             [
              1,
              "rgb(250,234,220)"
             ]
            ],
            "type": "heatmap"
           }
          ],
          "heatmapgl": [
           {
            "colorbar": {
             "outlinewidth": 0,
             "tickcolor": "rgb(36,36,36)",
             "ticklen": 8,
             "ticks": "outside",
             "tickwidth": 2
            },
            "colorscale": [
             [
              0,
              "rgb(2,4,25)"
             ],
             [
              0.06274509803921569,
              "rgb(24,15,41)"
             ],
             [
              0.12549019607843137,
              "rgb(47,23,57)"
             ],
             [
              0.18823529411764706,
              "rgb(71,28,72)"
             ],
             [
              0.25098039215686274,
              "rgb(97,30,82)"
             ],
             [
              0.3137254901960784,
              "rgb(123,30,89)"
             ],
             [
              0.3764705882352941,
              "rgb(150,27,91)"
             ],
             [
              0.4392156862745098,
              "rgb(177,22,88)"
             ],
             [
              0.5019607843137255,
              "rgb(203,26,79)"
             ],
             [
              0.5647058823529412,
              "rgb(223,47,67)"
             ],
             [
              0.6274509803921569,
              "rgb(236,76,61)"
             ],
             [
              0.6901960784313725,
              "rgb(242,107,73)"
             ],
             [
              0.7529411764705882,
              "rgb(244,135,95)"
             ],
             [
              0.8156862745098039,
              "rgb(245,162,122)"
             ],
             [
              0.8784313725490196,
              "rgb(246,188,153)"
             ],
             [
              0.9411764705882353,
              "rgb(247,212,187)"
             ],
             [
              1,
              "rgb(250,234,220)"
             ]
            ],
            "type": "heatmapgl"
           }
          ],
          "histogram": [
           {
            "marker": {
             "pattern": {
              "fillmode": "overlay",
              "size": 10,
              "solidity": 0.2
             }
            },
            "type": "histogram"
           }
          ],
          "histogram2d": [
           {
            "colorbar": {
             "outlinewidth": 0,
             "tickcolor": "rgb(36,36,36)",
             "ticklen": 8,
             "ticks": "outside",
             "tickwidth": 2
            },
            "colorscale": [
             [
              0,
              "rgb(2,4,25)"
             ],
             [
              0.06274509803921569,
              "rgb(24,15,41)"
             ],
             [
              0.12549019607843137,
              "rgb(47,23,57)"
             ],
             [
              0.18823529411764706,
              "rgb(71,28,72)"
             ],
             [
              0.25098039215686274,
              "rgb(97,30,82)"
             ],
             [
              0.3137254901960784,
              "rgb(123,30,89)"
             ],
             [
              0.3764705882352941,
              "rgb(150,27,91)"
             ],
             [
              0.4392156862745098,
              "rgb(177,22,88)"
             ],
             [
              0.5019607843137255,
              "rgb(203,26,79)"
             ],
             [
              0.5647058823529412,
              "rgb(223,47,67)"
             ],
             [
              0.6274509803921569,
              "rgb(236,76,61)"
             ],
             [
              0.6901960784313725,
              "rgb(242,107,73)"
             ],
             [
              0.7529411764705882,
              "rgb(244,135,95)"
             ],
             [
              0.8156862745098039,
              "rgb(245,162,122)"
             ],
             [
              0.8784313725490196,
              "rgb(246,188,153)"
             ],
             [
              0.9411764705882353,
              "rgb(247,212,187)"
             ],
             [
              1,
              "rgb(250,234,220)"
             ]
            ],
            "type": "histogram2d"
           }
          ],
          "histogram2dcontour": [
           {
            "colorbar": {
             "outlinewidth": 0,
             "tickcolor": "rgb(36,36,36)",
             "ticklen": 8,
             "ticks": "outside",
             "tickwidth": 2
            },
            "colorscale": [
             [
              0,
              "rgb(2,4,25)"
             ],
             [
              0.06274509803921569,
              "rgb(24,15,41)"
             ],
             [
              0.12549019607843137,
              "rgb(47,23,57)"
             ],
             [
              0.18823529411764706,
              "rgb(71,28,72)"
             ],
             [
              0.25098039215686274,
              "rgb(97,30,82)"
             ],
             [
              0.3137254901960784,
              "rgb(123,30,89)"
             ],
             [
              0.3764705882352941,
              "rgb(150,27,91)"
             ],
             [
              0.4392156862745098,
              "rgb(177,22,88)"
             ],
             [
              0.5019607843137255,
              "rgb(203,26,79)"
             ],
             [
              0.5647058823529412,
              "rgb(223,47,67)"
             ],
             [
              0.6274509803921569,
              "rgb(236,76,61)"
             ],
             [
              0.6901960784313725,
              "rgb(242,107,73)"
             ],
             [
              0.7529411764705882,
              "rgb(244,135,95)"
             ],
             [
              0.8156862745098039,
              "rgb(245,162,122)"
             ],
             [
              0.8784313725490196,
              "rgb(246,188,153)"
             ],
             [
              0.9411764705882353,
              "rgb(247,212,187)"
             ],
             [
              1,
              "rgb(250,234,220)"
             ]
            ],
            "type": "histogram2dcontour"
           }
          ],
          "mesh3d": [
           {
            "colorbar": {
             "outlinewidth": 0,
             "tickcolor": "rgb(36,36,36)",
             "ticklen": 8,
             "ticks": "outside",
             "tickwidth": 2
            },
            "type": "mesh3d"
           }
          ],
          "parcoords": [
           {
            "line": {
             "colorbar": {
              "outlinewidth": 0,
              "tickcolor": "rgb(36,36,36)",
              "ticklen": 8,
              "ticks": "outside",
              "tickwidth": 2
             }
            },
            "type": "parcoords"
           }
          ],
          "pie": [
           {
            "automargin": true,
            "type": "pie"
           }
          ],
          "scatter": [
           {
            "fillpattern": {
             "fillmode": "overlay",
             "size": 10,
             "solidity": 0.2
            },
            "type": "scatter"
           }
          ],
          "scatter3d": [
           {
            "line": {
             "colorbar": {
              "outlinewidth": 0,
              "tickcolor": "rgb(36,36,36)",
              "ticklen": 8,
              "ticks": "outside",
              "tickwidth": 2
             }
            },
            "marker": {
             "colorbar": {
              "outlinewidth": 0,
              "tickcolor": "rgb(36,36,36)",
              "ticklen": 8,
              "ticks": "outside",
              "tickwidth": 2
             }
            },
            "type": "scatter3d"
           }
          ],
          "scattercarpet": [
           {
            "marker": {
             "colorbar": {
              "outlinewidth": 0,
              "tickcolor": "rgb(36,36,36)",
              "ticklen": 8,
              "ticks": "outside",
              "tickwidth": 2
             }
            },
            "type": "scattercarpet"
           }
          ],
          "scattergeo": [
           {
            "marker": {
             "colorbar": {
              "outlinewidth": 0,
              "tickcolor": "rgb(36,36,36)",
              "ticklen": 8,
              "ticks": "outside",
              "tickwidth": 2
             }
            },
            "type": "scattergeo"
           }
          ],
          "scattergl": [
           {
            "marker": {
             "colorbar": {
              "outlinewidth": 0,
              "tickcolor": "rgb(36,36,36)",
              "ticklen": 8,
              "ticks": "outside",
              "tickwidth": 2
             }
            },
            "type": "scattergl"
           }
          ],
          "scattermapbox": [
           {
            "marker": {
             "colorbar": {
              "outlinewidth": 0,
              "tickcolor": "rgb(36,36,36)",
              "ticklen": 8,
              "ticks": "outside",
              "tickwidth": 2
             }
            },
            "type": "scattermapbox"
           }
          ],
          "scatterpolar": [
           {
            "marker": {
             "colorbar": {
              "outlinewidth": 0,
              "tickcolor": "rgb(36,36,36)",
              "ticklen": 8,
              "ticks": "outside",
              "tickwidth": 2
             }
            },
            "type": "scatterpolar"
           }
          ],
          "scatterpolargl": [
           {
            "marker": {
             "colorbar": {
              "outlinewidth": 0,
              "tickcolor": "rgb(36,36,36)",
              "ticklen": 8,
              "ticks": "outside",
              "tickwidth": 2
             }
            },
            "type": "scatterpolargl"
           }
          ],
          "scatterternary": [
           {
            "marker": {
             "colorbar": {
              "outlinewidth": 0,
              "tickcolor": "rgb(36,36,36)",
              "ticklen": 8,
              "ticks": "outside",
              "tickwidth": 2
             }
            },
            "type": "scatterternary"
           }
          ],
          "surface": [
           {
            "colorbar": {
             "outlinewidth": 0,
             "tickcolor": "rgb(36,36,36)",
             "ticklen": 8,
             "ticks": "outside",
             "tickwidth": 2
            },
            "colorscale": [
             [
              0,
              "rgb(2,4,25)"
             ],
             [
              0.06274509803921569,
              "rgb(24,15,41)"
             ],
             [
              0.12549019607843137,
              "rgb(47,23,57)"
             ],
             [
              0.18823529411764706,
              "rgb(71,28,72)"
             ],
             [
              0.25098039215686274,
              "rgb(97,30,82)"
             ],
             [
              0.3137254901960784,
              "rgb(123,30,89)"
             ],
             [
              0.3764705882352941,
              "rgb(150,27,91)"
             ],
             [
              0.4392156862745098,
              "rgb(177,22,88)"
             ],
             [
              0.5019607843137255,
              "rgb(203,26,79)"
             ],
             [
              0.5647058823529412,
              "rgb(223,47,67)"
             ],
             [
              0.6274509803921569,
              "rgb(236,76,61)"
             ],
             [
              0.6901960784313725,
              "rgb(242,107,73)"
             ],
             [
              0.7529411764705882,
              "rgb(244,135,95)"
             ],
             [
              0.8156862745098039,
              "rgb(245,162,122)"
             ],
             [
              0.8784313725490196,
              "rgb(246,188,153)"
             ],
             [
              0.9411764705882353,
              "rgb(247,212,187)"
             ],
             [
              1,
              "rgb(250,234,220)"
             ]
            ],
            "type": "surface"
           }
          ],
          "table": [
           {
            "cells": {
             "fill": {
              "color": "rgb(231,231,240)"
             },
             "line": {
              "color": "white"
             }
            },
            "header": {
             "fill": {
              "color": "rgb(183,183,191)"
             },
             "line": {
              "color": "white"
             }
            },
            "type": "table"
           }
          ]
         },
         "layout": {
          "annotationdefaults": {
           "arrowcolor": "rgb(67,103,167)"
          },
          "autotypenumbers": "strict",
          "coloraxis": {
           "colorbar": {
            "outlinewidth": 0,
            "tickcolor": "rgb(36,36,36)",
            "ticklen": 8,
            "ticks": "outside",
            "tickwidth": 2
           }
          },
          "colorscale": {
           "sequential": [
            [
             0,
             "rgb(2,4,25)"
            ],
            [
             0.06274509803921569,
             "rgb(24,15,41)"
            ],
            [
             0.12549019607843137,
             "rgb(47,23,57)"
            ],
            [
             0.18823529411764706,
             "rgb(71,28,72)"
            ],
            [
             0.25098039215686274,
             "rgb(97,30,82)"
            ],
            [
             0.3137254901960784,
             "rgb(123,30,89)"
            ],
            [
             0.3764705882352941,
             "rgb(150,27,91)"
            ],
            [
             0.4392156862745098,
             "rgb(177,22,88)"
            ],
            [
             0.5019607843137255,
             "rgb(203,26,79)"
            ],
            [
             0.5647058823529412,
             "rgb(223,47,67)"
            ],
            [
             0.6274509803921569,
             "rgb(236,76,61)"
            ],
            [
             0.6901960784313725,
             "rgb(242,107,73)"
            ],
            [
             0.7529411764705882,
             "rgb(244,135,95)"
            ],
            [
             0.8156862745098039,
             "rgb(245,162,122)"
            ],
            [
             0.8784313725490196,
             "rgb(246,188,153)"
            ],
            [
             0.9411764705882353,
             "rgb(247,212,187)"
            ],
            [
             1,
             "rgb(250,234,220)"
            ]
           ],
           "sequentialminus": [
            [
             0,
             "rgb(2,4,25)"
            ],
            [
             0.06274509803921569,
             "rgb(24,15,41)"
            ],
            [
             0.12549019607843137,
             "rgb(47,23,57)"
            ],
            [
             0.18823529411764706,
             "rgb(71,28,72)"
            ],
            [
             0.25098039215686274,
             "rgb(97,30,82)"
            ],
            [
             0.3137254901960784,
             "rgb(123,30,89)"
            ],
            [
             0.3764705882352941,
             "rgb(150,27,91)"
            ],
            [
             0.4392156862745098,
             "rgb(177,22,88)"
            ],
            [
             0.5019607843137255,
             "rgb(203,26,79)"
            ],
            [
             0.5647058823529412,
             "rgb(223,47,67)"
            ],
            [
             0.6274509803921569,
             "rgb(236,76,61)"
            ],
            [
             0.6901960784313725,
             "rgb(242,107,73)"
            ],
            [
             0.7529411764705882,
             "rgb(244,135,95)"
            ],
            [
             0.8156862745098039,
             "rgb(245,162,122)"
            ],
            [
             0.8784313725490196,
             "rgb(246,188,153)"
            ],
            [
             0.9411764705882353,
             "rgb(247,212,187)"
            ],
            [
             1,
             "rgb(250,234,220)"
            ]
           ]
          },
          "colorway": [
           "rgb(76,114,176)",
           "rgb(221,132,82)",
           "rgb(85,168,104)",
           "rgb(196,78,82)",
           "rgb(129,114,179)",
           "rgb(147,120,96)",
           "rgb(218,139,195)",
           "rgb(140,140,140)",
           "rgb(204,185,116)",
           "rgb(100,181,205)"
          ],
          "font": {
           "color": "rgb(36,36,36)"
          },
          "geo": {
           "bgcolor": "white",
           "lakecolor": "white",
           "landcolor": "rgb(234,234,242)",
           "showlakes": true,
           "showland": true,
           "subunitcolor": "white"
          },
          "hoverlabel": {
           "align": "left"
          },
          "hovermode": "closest",
          "paper_bgcolor": "white",
          "plot_bgcolor": "rgb(234,234,242)",
          "polar": {
           "angularaxis": {
            "gridcolor": "white",
            "linecolor": "white",
            "showgrid": true,
            "ticks": ""
           },
           "bgcolor": "rgb(234,234,242)",
           "radialaxis": {
            "gridcolor": "white",
            "linecolor": "white",
            "showgrid": true,
            "ticks": ""
           }
          },
          "scene": {
           "xaxis": {
            "backgroundcolor": "rgb(234,234,242)",
            "gridcolor": "white",
            "gridwidth": 2,
            "linecolor": "white",
            "showbackground": true,
            "showgrid": true,
            "ticks": "",
            "zerolinecolor": "white"
           },
           "yaxis": {
            "backgroundcolor": "rgb(234,234,242)",
            "gridcolor": "white",
            "gridwidth": 2,
            "linecolor": "white",
            "showbackground": true,
            "showgrid": true,
            "ticks": "",
            "zerolinecolor": "white"
           },
           "zaxis": {
            "backgroundcolor": "rgb(234,234,242)",
            "gridcolor": "white",
            "gridwidth": 2,
            "linecolor": "white",
            "showbackground": true,
            "showgrid": true,
            "ticks": "",
            "zerolinecolor": "white"
           }
          },
          "shapedefaults": {
           "fillcolor": "rgb(67,103,167)",
           "line": {
            "width": 0
           },
           "opacity": 0.5
          },
          "ternary": {
           "aaxis": {
            "gridcolor": "white",
            "linecolor": "white",
            "showgrid": true,
            "ticks": ""
           },
           "baxis": {
            "gridcolor": "white",
            "linecolor": "white",
            "showgrid": true,
            "ticks": ""
           },
           "bgcolor": "rgb(234,234,242)",
           "caxis": {
            "gridcolor": "white",
            "linecolor": "white",
            "showgrid": true,
            "ticks": ""
           }
          },
          "xaxis": {
           "automargin": true,
           "gridcolor": "white",
           "linecolor": "white",
           "showgrid": true,
           "ticks": "",
           "title": {
            "standoff": 15
           },
           "zerolinecolor": "white"
          },
          "yaxis": {
           "automargin": true,
           "gridcolor": "white",
           "linecolor": "white",
           "showgrid": true,
           "ticks": "",
           "title": {
            "standoff": 15
           },
           "zerolinecolor": "white"
          }
         }
        },
        "title": {
         "font": {
          "family": "Arial"
         },
         "text": "Overlap Percentage between Imaris and QDye with GT"
        },
        "width": 800,
        "xaxis": {
         "anchor": "y",
         "domain": [
          0,
          1
         ],
         "title": {
          "font": {
           "family": "Arial"
          },
          "text": "Overlap Percentage"
         }
        },
        "yaxis": {
         "anchor": "x",
         "categoryarray": [
          "Imaris-GT",
          "QDye-GT"
         ],
         "categoryorder": "array",
         "domain": [
          0,
          1
         ],
         "title": {
          "font": {
           "family": "Arial"
          },
          "text": "Group"
         }
        }
       }
      }
     },
     "metadata": {},
     "output_type": "display_data"
    }
   ],
   "source": [
    "#With plotly for adding to the final report\n",
    "df = pd.DataFrame({'Neuron':neurons,'QDye-GT':list(perc_overlap_qdye_gt_cvt.values()),'Imaris-GT':list(perc_overlap_imaris_gt_cvt.values())})\n",
    "df = pd.melt(df,id_vars='Neuron',var_name='Group',value_name='Overlap Percentage')\n",
    "fig = px.box(df,y='Group',x='Overlap Percentage',color='Group',points='all',hover_data=['Neuron'],title='Overlap Percentage between Imaris and QDye with GT',height=500,width=800,template='seaborn')\n",
    "#remove the background color\n",
    "fig.update_layout(plot_bgcolor='white')\n",
    "#show a frame around the plot\n",
    "fig.update_layout(showlegend=True)\n",
    "fig.update_traces(boxmean=True)\n",
    "#show the statistical test result\n",
    "fig.update_layout( title_font_family=\"Arial\",legend_title_font_family=\"Arial\")\n",
    "fig.update_xaxes(title_font_family=\"Arial\")\n",
    "fig.update_yaxes(title_font_family=\"Arial\")\n",
    "fig.show();"
   ]
  },
  {
   "cell_type": "code",
   "execution_count": null,
   "metadata": {},
   "outputs": [],
   "source": [
    "import plotly.io as pio\n",
    "fig.write_image(\"fig1.eps\")"
   ]
  },
  {
   "cell_type": "code",
   "execution_count": 269,
   "metadata": {},
   "outputs": [
    {
     "name": "stdout",
     "output_type": "stream",
     "text": [
      "Requirement already satisfied: kaleido in c:\\users\\biswanathsaha\\miniconda3\\envs\\stable\\lib\\site-packages (0.2.1)\n"
     ]
    }
   ],
   "source": [
    "! pip install -U kaleido"
   ]
  },
  {
   "cell_type": "code",
   "execution_count": 271,
   "metadata": {},
   "outputs": [
    {
     "data": {
      "text/html": [
       "<div>\n",
       "<style scoped>\n",
       "    .dataframe tbody tr th:only-of-type {\n",
       "        vertical-align: middle;\n",
       "    }\n",
       "\n",
       "    .dataframe tbody tr th {\n",
       "        vertical-align: top;\n",
       "    }\n",
       "\n",
       "    .dataframe thead th {\n",
       "        text-align: right;\n",
       "    }\n",
       "</style>\n",
       "<table border=\"1\" class=\"dataframe\">\n",
       "  <thead>\n",
       "    <tr style=\"text-align: right;\">\n",
       "      <th></th>\n",
       "      <th>Neuron</th>\n",
       "      <th>Group</th>\n",
       "      <th>Overlap Percentage</th>\n",
       "    </tr>\n",
       "  </thead>\n",
       "  <tbody>\n",
       "    <tr>\n",
       "      <th>0</th>\n",
       "      <td>Cell 32</td>\n",
       "      <td>QDye-GT</td>\n",
       "      <td>0.846311</td>\n",
       "    </tr>\n",
       "    <tr>\n",
       "      <th>1</th>\n",
       "      <td>Cell 14</td>\n",
       "      <td>QDye-GT</td>\n",
       "      <td>0.852526</td>\n",
       "    </tr>\n",
       "    <tr>\n",
       "      <th>2</th>\n",
       "      <td>Cell 20</td>\n",
       "      <td>QDye-GT</td>\n",
       "      <td>0.869020</td>\n",
       "    </tr>\n",
       "    <tr>\n",
       "      <th>3</th>\n",
       "      <td>Cell 22</td>\n",
       "      <td>QDye-GT</td>\n",
       "      <td>0.888857</td>\n",
       "    </tr>\n",
       "    <tr>\n",
       "      <th>4</th>\n",
       "      <td>Cell 19</td>\n",
       "      <td>QDye-GT</td>\n",
       "      <td>0.842805</td>\n",
       "    </tr>\n",
       "  </tbody>\n",
       "</table>\n",
       "</div>"
      ],
      "text/plain": [
       "    Neuron    Group  Overlap Percentage\n",
       "0  Cell 32  QDye-GT            0.846311\n",
       "1  Cell 14  QDye-GT            0.852526\n",
       "2  Cell 20  QDye-GT            0.869020\n",
       "3  Cell 22  QDye-GT            0.888857\n",
       "4  Cell 19  QDye-GT            0.842805"
      ]
     },
     "execution_count": 271,
     "metadata": {},
     "output_type": "execute_result"
    }
   ],
   "source": [
    "df.head()"
   ]
  },
  {
   "cell_type": "code",
   "execution_count": 272,
   "metadata": {},
   "outputs": [],
   "source": [
    "df.to_csv('overlap_percentage.csv',index=False)"
   ]
  },
  {
   "cell_type": "code",
   "execution_count": 274,
   "metadata": {},
   "outputs": [
    {
     "data": {
      "text/plain": [
       "{'Cell 32': 0.14600619179764712,\n",
       " 'Cell 14': 0.3965803182893421,\n",
       " 'Cell 20': 0.3611365622514734,\n",
       " 'Cell 22': 0.5248850767025839,\n",
       " 'Cell 19': 0.1837885863600593,\n",
       " 'Cell 18': 0.36096942167914803,\n",
       " 'Cell 10': 0.22472504483900216,\n",
       " 'Cell 29': 0.4897301071957156,\n",
       " 'Cell 30': 0.07318591424521137,\n",
       " 'Cell 26': 0.368038299705132,\n",
       " 'Cell 24': 0.11000892638453041,\n",
       " 'Cell 15': 0.07789935405057037,\n",
       " 'Cell 1': 0.19726070447274813,\n",
       " 'Cell 23': 0.47976560243856486,\n",
       " 'Cell 34': 0.34980358057320793,\n",
       " 'Cell 16': 0.2884484186486003,\n",
       " 'Cell 28': 0.10757819272237092,\n",
       " 'Cell 33': 0.07446806046036429,\n",
       " 'Cell 4': 0.13352670995513977,\n",
       " 'Cell 36': 0.11026730490707345}"
      ]
     },
     "execution_count": 274,
     "metadata": {},
     "output_type": "execute_result"
    }
   ],
   "source": [
    "perc_overlap_imaris_gt_cvt"
   ]
  },
  {
   "cell_type": "code",
   "execution_count": 275,
   "metadata": {},
   "outputs": [],
   "source": [
    "import pickle\n",
    "with open('overlap_percentage_imaris_gt.pkl','wb') as f:\n",
    "    pickle.dump(perc_overlap_imaris_gt_cvt,f)\n",
    "\n",
    "with open('overlap_percentage_qdye_gt.pkl','wb') as f:\n",
    "    pickle.dump(perc_overlap_qdye_gt_cvt,f)"
   ]
  },
  {
   "cell_type": "code",
   "execution_count": null,
   "metadata": {},
   "outputs": [],
   "source": []
  }
 ],
 "metadata": {
  "kernelspec": {
   "display_name": "stable",
   "language": "python",
   "name": "python3"
  },
  "language_info": {
   "codemirror_mode": {
    "name": "ipython",
    "version": 3
   },
   "file_extension": ".py",
   "mimetype": "text/x-python",
   "name": "python",
   "nbconvert_exporter": "python",
   "pygments_lexer": "ipython3",
   "version": "3.9.18"
  }
 },
 "nbformat": 4,
 "nbformat_minor": 2
}
